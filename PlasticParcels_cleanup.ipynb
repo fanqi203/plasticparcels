{
 "cells": [
  {
   "cell_type": "markdown",
   "metadata": {},
   "source": [
    "# PlasticParcels DRAKKAR Tutorial\n",
    "In this tutorial we will introduce you to some of the basic Parcels functions, as well as utilise the PlasticParcels tool for simulating microplastic pollution in the Mediterranean sea.\n",
    "\n",
    "By the end of this tutorial you should be able to create and visual hydrodynamic (and other) fields, create particle sets that represent marine microplastic pollution release locations, and apply physics parameterisations to simulate the dispersal of microplastics in the ocean.\n",
    "\n",
    "We will start by importing a number of necessary packages."
   ]
  },
  {
   "cell_type": "code",
   "execution_count": 1,
   "metadata": {},
   "outputs": [],
   "source": [
    "## Library imports\n",
    "import os\n",
    "import numpy as np\n",
    "import pandas as pd\n",
    "from datetime import datetime, timedelta\n",
    "\n",
    "# Parcels and PlasticParcels imports\n",
    "from parcels import ParticleFile, JITParticle, Variable\n",
    "#from PlasticParcels import create_fieldset, create_particleset, create_kernel, load_default_settings, create_particleset_from_file, load_test_settings\n",
    "#from utils import select_files, create_directory, getclosest_ij\n",
    "#import PlasticParcels\n",
    "## Plotting imports\n",
    "import matplotlib.pyplot as plt\n",
    "import cartopy.crs as ccrs\n",
    "\n"
   ]
  },
  {
   "cell_type": "code",
   "execution_count": 2,
   "metadata": {},
   "outputs": [],
   "source": [
    "from PlasticParcels import constructors, utils\n"
   ]
  },
  {
   "cell_type": "code",
   "execution_count": 3,
   "metadata": {},
   "outputs": [],
   "source": [
    "import PlasticParcels as PP"
   ]
  },
  {
   "cell_type": "markdown",
   "metadata": {},
   "source": [
    "# Model settings\n",
    "Using PlasticParcels, we will load the default settings for our sumulations, using the `load_default_settings` function.\n",
    "\n",
    "This returns two dictionary of parameters, one used for fieldset creation, the other for particleset creation.\n",
    "\n",
    "You can update the parameters by updating the dictionaries as necessary.\n",
    "\n",
    "The description of each parameter can be found in the PlasticParcels/helper.py file."
   ]
  },
  {
   "cell_type": "code",
   "execution_count": 4,
   "metadata": {},
   "outputs": [],
   "source": [
    "settings_file = 'PlasticParcels/local_settings.json'\n",
    "settings = PP.utils.load_settings(settings_file)"
   ]
  },
  {
   "cell_type": "code",
   "execution_count": 10,
   "metadata": {},
   "outputs": [
    {
     "data": {
      "text/plain": [
       "{'mode': '3D',\n",
       " 'allow_time_extrapolation': False,\n",
       " 'verbose_delete': False,\n",
       " 'mixing_f': False,\n",
       " 'biofouling_f': False,\n",
       " 'stokes_f': False,\n",
       " 'wind_f': False,\n",
       " 'ocean': {'directory': 'data/input_data/MOi/',\n",
       "  'filename_style': 'psy4v3r1/psy4v3r1-daily_',\n",
       "  'ocean_mesh': 'domain_ORCA0083-N006/coordinates.nc',\n",
       "  'bathymetry_mesh': 'domain_ORCA0083-N006/bathymetry_ORCA12_V3.3.nc',\n",
       "  'variables': {'U': 'vozocrtx',\n",
       "   'V': 'vomecrty',\n",
       "   'W': 'vovecrtz',\n",
       "   'conservative_temperature': 'votemper',\n",
       "   'absolute_salinity': 'vosaline'},\n",
       "  'dimensions': {'U': {'lon': 'glamf',\n",
       "    'lat': 'gphif',\n",
       "    'depth': 'depthw',\n",
       "    'time': 'time_counter'},\n",
       "   'V': {'lon': 'glamf',\n",
       "    'lat': 'gphif',\n",
       "    'depth': 'depthw',\n",
       "    'time': 'time_counter'},\n",
       "   'W': {'lon': 'glamf',\n",
       "    'lat': 'gphif',\n",
       "    'depth': 'depthw',\n",
       "    'time': 'time_counter'},\n",
       "   'conservative_temperature': {'lon': 'glamf',\n",
       "    'lat': 'gphif',\n",
       "    'depth': 'depthw',\n",
       "    'time': 'time_counter'},\n",
       "   'absolute_salinity': {'lon': 'glamf',\n",
       "    'lat': 'gphif',\n",
       "    'depth': 'depthw',\n",
       "    'time': 'time_counter'}},\n",
       "  'indices': {},\n",
       "  'bathymetry_variables': ['bathymetry', 'Bathymetry'],\n",
       "  'bathymetry_dimensions': {'lon': 'nav_lon', 'lat': 'nav_lat'},\n",
       "  'mixing_variables': {'mixing_kz': 'votkeavt'},\n",
       "  'mixing_dimensions': {'lon': 'glamf',\n",
       "   'lat': 'gphif',\n",
       "   'depth': 'depthw',\n",
       "   'time': 'time_counter'}},\n",
       " 'bgc': {'directory': 'data/input_data/MOi/',\n",
       "  'filename_style': 'biomer4v2r1/biomer4v2r1-weekly_',\n",
       "  'bgc_mesh': 'domain_ORCA025-N006/mesh_hgr_PSY4V3_deg.nc',\n",
       "  'variables': {'pp_phyto': 'nppv',\n",
       "   'bio_nanophy': 'phy',\n",
       "   'bio_diatom': 'phy2'},\n",
       "  'dimensions': {'pp_phyto': {'lon': 'glamf',\n",
       "    'lat': 'gphif',\n",
       "    'depth': 'depthw',\n",
       "    'time': 'time_counter'},\n",
       "   'bio_nanophy': {'lon': 'glamf',\n",
       "    'lat': 'gphif',\n",
       "    'depth': 'depthw',\n",
       "    'time': 'time_counter'},\n",
       "   'bio_diatom': {'lon': 'glamf',\n",
       "    'lat': 'gphif',\n",
       "    'depth': 'depthw',\n",
       "    'time': 'time_counter'}},\n",
       "  'constants': {'biofilm_density': 1388.0,\n",
       "   'algae_cell_volume': 2e-16,\n",
       "   'K': 1.3805834190672156e-23,\n",
       "   'R20': 1.1574074074074074e-06,\n",
       "   'Q10': 2.13,\n",
       "   'Gamma': 2.0,\n",
       "   'carbon_molecular_weight': 12.0,\n",
       "   'collision_probability': 1.0,\n",
       "   'algae_mortality_rate': 1.0,\n",
       "   'algae_respiration_f': 1.0}},\n",
       " 'stokes': {'directory': 'data/input_data/ERA5/waves/',\n",
       "  'filename_style': 'ERA5_global_waves_monthly_',\n",
       "  'variables': {'Stokes_U': 'ust', 'Stokes_V': 'vst', 'wave_Tp': 'pp1d'},\n",
       "  'dimensions': {'lat': 'latitude', 'lon': 'longitude', 'time': 'time'}},\n",
       " 'wind': {'directory': 'data/input_data/ERA5/wind/',\n",
       "  'filename_style': 'ERA5_global_wind_monthly_',\n",
       "  'variables': {'Wind_U': 'u10', 'Wind_V': 'v10'},\n",
       "  'dimensions': {'lat': 'latitude', 'lon': 'longitude', 'time': 'time'}},\n",
       " 'simulation': {'start_date': None,\n",
       "  'runtime': None,\n",
       "  'dt_write': None,\n",
       "  'dt_timestep': None},\n",
       " 'release_maps': {'coastal': 'data/release/generated_files/coastal_population_MPW_NEMO0083.csv',\n",
       "  'rivers': 'data/release/generated_files/river_emissions_NEMO0083.csv',\n",
       "  'fisheries': 'data/release/generated_files/agg_data_fisheries_info.csv',\n",
       "  'global_concentrations': None}}"
      ]
     },
     "execution_count": 10,
     "metadata": {},
     "output_type": "execute_result"
    }
   ],
   "source": [
    "## View settings\n",
    "settings"
   ]
  },
  {
   "cell_type": "code",
   "execution_count": 15,
   "metadata": {},
   "outputs": [
    {
     "data": {
      "text/plain": [
       "['data/input_data/MOi/psy4v3r1/psy4v3r1-daily_T_2019-01-11.nc',\n",
       " 'data/input_data/MOi/psy4v3r1/psy4v3r1-daily_T_2019-01-10.nc',\n",
       " 'data/input_data/MOi/psy4v3r1/psy4v3r1-daily_T_2019-01-09.nc',\n",
       " 'data/input_data/MOi/psy4v3r1/psy4v3r1-daily_T_2019-01-13.nc',\n",
       " 'data/input_data/MOi/psy4v3r1/psy4v3r1-daily_T_2019-01-12.nc']"
      ]
     },
     "execution_count": 15,
     "metadata": {},
     "output_type": "execute_result"
    }
   ],
   "source": [
    "import glob\n",
    "glob.glob(os.path.join(settings['ocean']['directory'], settings['ocean']['filename_style'])+'T*')[0]"
   ]
  },
  {
   "cell_type": "code",
   "execution_count": null,
   "metadata": {},
   "outputs": [],
   "source": []
  },
  {
   "cell_type": "code",
   "execution_count": 17,
   "metadata": {},
   "outputs": [],
   "source": [
    "# Set the simulation settings\n",
    "settings['simulation'] = {\n",
    "    'start_date': datetime.strptime('2019-01-10-00:00:00', '%Y-%m-%d-%H:%M:%S'), # Start date of simulation\n",
    "    'runtime': timedelta(days=3),             # Runtime of simulation, use negative if releasing particles backwards in time\n",
    "    'dt_write': timedelta(days=1),             # Timestep of output\n",
    "    'dt_timestep': timedelta(minutes=20),       # Timestep of advection\n",
    "    }"
   ]
  },
  {
   "cell_type": "code",
   "execution_count": 18,
   "metadata": {},
   "outputs": [],
   "source": [
    "fieldset = PP.constructors.create_fieldset(settings)"
   ]
  },
  {
   "cell_type": "code",
   "execution_count": 22,
   "metadata": {},
   "outputs": [
    {
     "data": {
      "text/plain": [
       "86400"
      ]
     },
     "execution_count": 22,
     "metadata": {},
     "output_type": "execute_result"
    }
   ],
   "source": [
    "fieldset.computeTimeChunk(1,1)"
   ]
  },
  {
   "cell_type": "code",
   "execution_count": 21,
   "metadata": {},
   "outputs": [
    {
     "data": {
      "text/plain": [
       "2019-01-09T12:00:00.000000000"
      ]
     },
     "execution_count": 21,
     "metadata": {},
     "output_type": "execute_result"
    }
   ],
   "source": [
    "fieldset.time_origin"
   ]
  },
  {
   "cell_type": "code",
   "execution_count": null,
   "metadata": {},
   "outputs": [],
   "source": []
  },
  {
   "cell_type": "code",
   "execution_count": null,
   "metadata": {},
   "outputs": [],
   "source": []
  },
  {
   "cell_type": "code",
   "execution_count": 11,
   "metadata": {},
   "outputs": [
    {
     "data": {
      "text/plain": [
       "0.0"
      ]
     },
     "execution_count": 11,
     "metadata": {},
     "output_type": "execute_result"
    }
   ],
   "source": [
    "fieldset.bathymetry[0,0,52.1,5.12]*0.99"
   ]
  },
  {
   "cell_type": "code",
   "execution_count": null,
   "metadata": {},
   "outputs": [],
   "source": [
    "# ax = plt.subplot(111, projection=ccrs.PlateCarree())\n",
    "\n",
    "# ax.pcolormesh(fieldset.U.grid.lon, fieldset.U.grid.lat, fieldset.U.data[0,0], transform=ccrs.PlateCarree())\n",
    "# plt.show()"
   ]
  },
  {
   "cell_type": "code",
   "execution_count": null,
   "metadata": {},
   "outputs": [],
   "source": [
    "# ax = plt.subplot(111, projection=ccrs.PlateCarree())\n",
    "\n",
    "# ax.pcolormesh(fieldset.Stokes_U.grid.lon, fieldset.Stokes_U.grid.lat, fieldset.Stokes_U.data[0], transform=ccrs.PlateCarree())\n",
    "# plt.show()"
   ]
  },
  {
   "cell_type": "code",
   "execution_count": null,
   "metadata": {},
   "outputs": [],
   "source": [
    "# ax = plt.subplot(111, projection=ccrs.PlateCarree())\n",
    "\n",
    "# ax.pcolormesh(fieldset.pp_phyto.grid.lon, fieldset.pp_phyto.grid.lat, fieldset.pp_phyto.data[0,0], transform=ccrs.PlateCarree())\n",
    "# plt.show()"
   ]
  },
  {
   "cell_type": "code",
   "execution_count": null,
   "metadata": {},
   "outputs": [],
   "source": [
    "# ax = plt.subplot(111, projection=ccrs.PlateCarree())\n",
    "\n",
    "# ax.pcolormesh(fieldset.bio_diatom.grid.lon, fieldset.bio_diatom.grid.lat, fieldset.bio_diatom.data[0,0], transform=ccrs.PlateCarree())\n",
    "# plt.show()"
   ]
  },
  {
   "cell_type": "code",
   "execution_count": null,
   "metadata": {},
   "outputs": [],
   "source": [
    "\n",
    "import numpy as np"
   ]
  },
  {
   "cell_type": "code",
   "execution_count": null,
   "metadata": {},
   "outputs": [],
   "source": [
    "# PlasticParticle = JITParticle.add_variables(\n",
    "#     [\n",
    "#         Variable(\"plastic_diameter\", dtype=np.float32, initial=np.nan),\n",
    "#         Variable(\"plastic_density\", dtype=np.float32, initial=np.nan),\n",
    "#         Variable('windage_coefficient', dtype=np.float32, initial=0.),\n",
    "#         Variable('settling_velocity', dtype=np.float64, initial=0.),\n",
    "#         Variable('seawater_density', dtype=np.float32, initial=np.nan),\n",
    "#         Variable('absolute_salinity', dtype=np.float64, initial=np.nan),\n",
    "#         Variable('algae_amount', dtype=np.float64, initial=0.)\n",
    "#     ]\n",
    "# )\n",
    "\n",
    "# ## Is this a better way?\n",
    "# class PlasticParticle(JITParticle):\n",
    "#     def __init__(self):\n",
    "#         self.add_variables([\n",
    "#             Variable(\"plastic_diameter\", dtype=np.float32, initial=np.nan),\n",
    "#             Variable(\"plastic_density\", dtype=np.float32, initial=np.nan),\n",
    "#             Variable('windage_coefficient', dtype=np.float32, initial=0.),\n",
    "#             Variable('settling_velocity', dtype=np.float64, initial=0.),\n",
    "#             Variable('seawater_density', dtype=np.float32, initial=np.nan),\n",
    "#             Variable('absolute_salinity', dtype=np.float64, initial=np.nan),\n",
    "#             Variable('algae_amount', dtype=np.float64, initial=0.)\n",
    "#             ])"
   ]
  },
  {
   "cell_type": "code",
   "execution_count": null,
   "metadata": {},
   "outputs": [],
   "source": []
  },
  {
   "cell_type": "code",
   "execution_count": null,
   "metadata": {},
   "outputs": [],
   "source": [
    "## the usual parcels.ParticleSet.from_list() approach\n"
   ]
  },
  {
   "cell_type": "code",
   "execution_count": null,
   "metadata": {},
   "outputs": [],
   "source": [
    "## Define particle types and release locations\n",
    "\n",
    "settings['release'] = {\n",
    "    'wind_coefficient' : 0.01, # Percentage of wind to apply to particles\n",
    "    'plastic_diameter' : 0.001, # Plastic particle diameter (m)\n",
    "    'plastic_density' : 1020., # Plastic particle density (kg/m^3)\n",
    "    'initialisation_type': 'coastal',\n",
    "    #'continent': '',\n",
    "    #'region': '',\n",
    "    #'subregion': 'Southern Europe',\n",
    "    'country': 'Greece',   \n",
    "}\n",
    "\n",
    "## Create the particleset\n",
    "pset = PP.constructors.create_particleset_from_map(fieldset, settings)"
   ]
  },
  {
   "cell_type": "code",
   "execution_count": null,
   "metadata": {},
   "outputs": [],
   "source": [
    "pset"
   ]
  },
  {
   "cell_type": "markdown",
   "metadata": {},
   "source": []
  },
  {
   "cell_type": "code",
   "execution_count": null,
   "metadata": {},
   "outputs": [],
   "source": [
    "fig = plt.figure()\n",
    "ax = plt.axes(projection=ccrs.PlateCarree())\n",
    "ax.scatter(pset.lon, pset.lat, c=np.log(pset.plastic_amount), s=5, transform=ccrs.PlateCarree())\n",
    "ax.coastlines()\n",
    "ax.gridlines(draw_labels=True)\n",
    "plt.title(\"Initial particle positions\")\n",
    "plt.show()\n",
    "\n",
    "fig = plt.figure()\n",
    "ax = plt.axes(projection=ccrs.PlateCarree())\n",
    "ax.scatter(pset.lon, pset.lat, c=np.log(pset.plastic_amount), s=2, transform=ccrs.PlateCarree())\n",
    "ax.coastlines()\n",
    "ax.gridlines(draw_labels=True)\n",
    "ax.set_xlim([np.min(pset.lon)-25, np.max(pset.lon)+25])\n",
    "ax.set_ylim([np.min(pset.lat)-25, np.max(pset.lat)+25])\n",
    "plt.title(\"Initial particle positions\")\n",
    "plt.show()"
   ]
  },
  {
   "cell_type": "code",
   "execution_count": null,
   "metadata": {},
   "outputs": [],
   "source": [
    "kernels = PP.constructors.create_kernel(fieldset, pset)"
   ]
  },
  {
   "cell_type": "code",
   "execution_count": null,
   "metadata": {},
   "outputs": [],
   "source": [
    "#kernels = kernels[1:]"
   ]
  },
  {
   "cell_type": "code",
   "execution_count": null,
   "metadata": {},
   "outputs": [],
   "source": [
    "kernels = [kernels[1], kernels[3], kernels[4], kernels[5], kernels[6]]\n",
    "kernels"
   ]
  },
  {
   "cell_type": "code",
   "execution_count": null,
   "metadata": {},
   "outputs": [],
   "source": [
    "## Define the runtime, the timestepping, and the output frequency of the simulation\n",
    "runtime = settings['simulation']['runtime']\n",
    "dt_timestep = settings['simulation']['dt_timestep']\n",
    "dt_write = settings['simulation']['dt_write']"
   ]
  },
  {
   "cell_type": "code",
   "execution_count": null,
   "metadata": {},
   "outputs": [],
   "source": [
    "## Create the particle file where output will be stored\n",
    "pfile = ParticleFile('tes2.zarr', pset, outputdt=dt_write)\n",
    "pfile.add_metadata('PlasticParcels_settings', str(settings))\n",
    "\n",
    "## Execute the simulation\n",
    "pset.execute(kernels, runtime=runtime, dt=dt_timestep, output_file=pfile)"
   ]
  },
  {
   "cell_type": "code",
   "execution_count": null,
   "metadata": {},
   "outputs": [],
   "source": [
    "fig = plt.figure()\n",
    "ax = plt.axes(projection=ccrs.PlateCarree())\n",
    "ax.scatter(pset.lon, pset.lat, c=np.log(pset.plastic_amount), s=5, transform=ccrs.PlateCarree())\n",
    "ax.coastlines()\n",
    "ax.gridlines(draw_labels=True)\n",
    "plt.title(\"Final particle positions\")\n",
    "plt.show()\n",
    "\n",
    "fig = plt.figure()\n",
    "ax = plt.axes(projection=ccrs.PlateCarree())\n",
    "ax.scatter(pset.lon, pset.lat, c=np.log(pset.plastic_amount), s=5, transform=ccrs.PlateCarree())\n",
    "ax.coastlines()\n",
    "ax.gridlines(draw_labels=True)\n",
    "ax.set_xlim([np.min(pset.lon)-25, np.max(pset.lon)+25])\n",
    "ax.set_ylim([np.min(pset.lat)-25, np.max(pset.lat)+25])\n",
    "plt.title(\"Final particle positions\")\n",
    "plt.show()"
   ]
  },
  {
   "cell_type": "code",
   "execution_count": null,
   "metadata": {},
   "outputs": [],
   "source": [
    "particle_locations = pd.read_csv(settings['release_maps']['coastal'])"
   ]
  },
  {
   "cell_type": "code",
   "execution_count": null,
   "metadata": {},
   "outputs": [],
   "source": [
    "particle_locations['MPW_Cell']"
   ]
  },
  {
   "cell_type": "code",
   "execution_count": null,
   "metadata": {},
   "outputs": [],
   "source": [
    "import xarray as xr\n",
    "ds = xr.open_zarr('tes2.zarr')"
   ]
  },
  {
   "cell_type": "code",
   "execution_count": null,
   "metadata": {},
   "outputs": [],
   "source": [
    "test = ds.attrs['Settings']"
   ]
  },
  {
   "cell_type": "code",
   "execution_count": null,
   "metadata": {},
   "outputs": [],
   "source": [
    "len(pset.lon)"
   ]
  },
  {
   "cell_type": "code",
   "execution_count": null,
   "metadata": {},
   "outputs": [],
   "source": [
    "import xarray as xr\n",
    "mask = xr.open_dataset('/Users/denes001/Research/Projects/PlasticParcels/PlasticParcels/data/input_data/MOi/domain_ORCA0083-N006/PSY4V3R1_mask.nc')\n",
    "mask"
   ]
  },
  {
   "cell_type": "code",
   "execution_count": null,
   "metadata": {},
   "outputs": [],
   "source": [
    "ax = plt.subplot(111, projection=ccrs.PlateCarree())\n",
    "ax.pcolormesh(mask['nav_lon'], mask['nav_lat'], mask['umask'][0,25], transform=ccrs.PlateCarree())\n",
    "plt.show()"
   ]
  },
  {
   "cell_type": "code",
   "execution_count": null,
   "metadata": {},
   "outputs": [],
   "source": [
    "coordinates = xr.open_dataset('/Users/denes001/Research/Projects/PlasticParcels/PlasticParcels/data/input_data/MOi/domain_ORCA0083-N006/coordinates.nc', decode_cf=False)\n"
   ]
  },
  {
   "cell_type": "code",
   "execution_count": null,
   "metadata": {},
   "outputs": [],
   "source": [
    "coordinates"
   ]
  },
  {
   "cell_type": "code",
   "execution_count": null,
   "metadata": {},
   "outputs": [],
   "source": []
  },
  {
   "cell_type": "code",
   "execution_count": null,
   "metadata": {},
   "outputs": [],
   "source": []
  },
  {
   "cell_type": "code",
   "execution_count": null,
   "metadata": {},
   "outputs": [],
   "source": []
  },
  {
   "cell_type": "code",
   "execution_count": null,
   "metadata": {},
   "outputs": [],
   "source": []
  },
  {
   "cell_type": "code",
   "execution_count": null,
   "metadata": {},
   "outputs": [],
   "source": []
  },
  {
   "cell_type": "code",
   "execution_count": null,
   "metadata": {},
   "outputs": [],
   "source": []
  },
  {
   "cell_type": "code",
   "execution_count": null,
   "metadata": {},
   "outputs": [],
   "source": []
  },
  {
   "cell_type": "markdown",
   "metadata": {},
   "source": [
    "# Create a Parcels fieldset\n",
    "We now create the fieldset that contains all the required fields (ocean velocities, temperature and salinity, ocean biology, winds and waves, etc.).\n",
    "\n",
    "We loaded the default settings above, which we will pass into the `create_fieldset` PlasticParcels function. This removes a lot of the complexity when creating fieldsets with a large number of underlying fields. What is produced is a Parcels fieldset object."
   ]
  },
  {
   "cell_type": "code",
   "execution_count": null,
   "metadata": {},
   "outputs": [],
   "source": [
    "fieldset = create_fieldset(model_settings, particle_settings)\n",
    "\n",
    "print(\"Time origin of data: \", fieldset.time_origin)"
   ]
  },
  {
   "cell_type": "markdown",
   "metadata": {},
   "source": [
    "To list all the fields that are present we use `.get_fields()` method to return a list of the fields, which we can then utilise and analyse."
   ]
  },
  {
   "cell_type": "code",
   "execution_count": null,
   "metadata": {},
   "outputs": [],
   "source": [
    "for parcels_field in fieldset.get_fields():\n",
    "    print(parcels_field.name)"
   ]
  },
  {
   "cell_type": "markdown",
   "metadata": {},
   "source": [
    "## Plotting Parcels `fields`\n",
    "Parcels fields are not loaded into memory immediately, rather the fields are only loaded when they are required (deferred load). Often the hydrodynamic data alone can be hundreds of GBs. To visualise these fields we can load in the first timestep of data.\n",
    "\n",
    "We do this using the `.computeTimeChunk(time, dt)` method, which takes as input a model time to load, and a number of timesteps to load. Once loaded, we plot the resulting fields using the `pcolormesh` matplotlib function. Below is a small snippet of code used to plot these fields.\n",
    "\n",
    "**A key highlight here is that Parcels handles different spatial grids and temporal resolutions automatically, and can even use different interpolation methods on each.**\n"
   ]
  },
  {
   "cell_type": "markdown",
   "metadata": {},
   "source": [
    "<div class=\"alert alert-info\">\n",
    "Note - The plots below are indicative only. Since the data is on a C-grid, and the plotting assumes we are passing T-points, there is a slight spatial shift to the data. This is only an issue with our basic plotting below, Parcels correctly interprets the grids.\n",
    "</div>"
   ]
  },
  {
   "cell_type": "code",
   "execution_count": null,
   "metadata": {},
   "outputs": [],
   "source": [
    "## Load data into memory\n",
    "fieldset.computeTimeChunk(0,1)"
   ]
  },
  {
   "cell_type": "code",
   "execution_count": null,
   "metadata": {},
   "outputs": [],
   "source": [
    "## Plotting function\n",
    "def plot_field(lons, lats, data, title):\n",
    "    fig = plt.figure()\n",
    "    ax = plt.axes(projection=ccrs.PlateCarree())\n",
    "    colors = ax.pcolormesh(lons, lats, data, transform=ccrs.PlateCarree())\n",
    "    ax.coastlines()\n",
    "    ax.gridlines(draw_labels=True)\n",
    "    plt.title(title)\n",
    "    plt.colorbar(colors)\n",
    "    plt.show()\n"
   ]
  },
  {
   "cell_type": "markdown",
   "metadata": {},
   "source": [
    "Note that some fields have no depth component (e.g. bathymetry, wind, waves), and so the shape of their data is different, and should be indexed differently."
   ]
  },
  {
   "cell_type": "code",
   "execution_count": null,
   "metadata": {},
   "outputs": [],
   "source": [
    "print(\"The usual shape order is (time, depth, latitude, longitude)\")\n",
    "print(\"Ocean U velocity data shape:\", fieldset.U.data.shape)\n",
    "print(\"Ocean V velocity data shape:\", fieldset.V.data.shape)\n",
    "print(\"Wind U velocity data shape:\", fieldset.Wind_U.data.shape)\n",
    "print(\"Wind V velocity data shape:\", fieldset.Wind_U.data.shape)\n",
    "print(\"Bathymetry shape:\", fieldset.bathymetry.data.shape)"
   ]
  },
  {
   "cell_type": "markdown",
   "metadata": {},
   "source": [
    "Plot the ocean surface velocity fields"
   ]
  },
  {
   "cell_type": "code",
   "execution_count": null,
   "metadata": {},
   "outputs": [],
   "source": [
    "## Plot velocity fields\n",
    "plot_field(fieldset.U.grid.lon, fieldset.U.grid.lat, fieldset.U.data[0,0], \"Surface velocity in i-direction (m/s)\")\n",
    "plot_field(fieldset.V.grid.lon, fieldset.V.grid.lat, fieldset.V.data[0,0], \"Surface velocity in j-direction (m/s)\")"
   ]
  },
  {
   "cell_type": "markdown",
   "metadata": {},
   "source": [
    "<div class=\"alert alert-info\">\n",
    "Note: The U,V fields are on a curvilinear grid, and the velocities are in the i- and j-directions. Parcels automatically rotates these vectors into the zonal- and meridional-directions when performing interpolation.\n",
    "</div>"
   ]
  },
  {
   "cell_type": "markdown",
   "metadata": {},
   "source": [
    "Plot the model bathymetry field"
   ]
  },
  {
   "cell_type": "code",
   "execution_count": null,
   "metadata": {},
   "outputs": [],
   "source": [
    "## Plot bathymetry\n",
    "plot_field(fieldset.bathymetry.grid.lon, fieldset.bathymetry.grid.lat, fieldset.bathymetry.data[0], \"Depth (m)\")"
   ]
  },
  {
   "cell_type": "markdown",
   "metadata": {},
   "source": [
    "Plot the 10m-wind velocity fields"
   ]
  },
  {
   "cell_type": "code",
   "execution_count": null,
   "metadata": {},
   "outputs": [],
   "source": [
    "## Plot Wind velocity fields\n",
    "plot_field(fieldset.Wind_U.grid.lon, fieldset.Wind_U.grid.lat, fieldset.Wind_U.data[0], \"Zonal wind velocity (m/s)\")\n",
    "plot_field(fieldset.Wind_V.grid.lon, fieldset.Wind_V.grid.lat, fieldset.Wind_V.data[0], \"Meridional wind velocity (m/s)\")"
   ]
  },
  {
   "cell_type": "markdown",
   "metadata": {},
   "source": [
    "Plot vertical eddy diffusivity"
   ]
  },
  {
   "cell_type": "code",
   "execution_count": null,
   "metadata": {},
   "outputs": [],
   "source": [
    "## Plot Vertical Diffusivity field\n",
    "plot_field(fieldset.mixing_kz.grid.lon, fieldset.mixing_kz.grid.lat, fieldset.mixing_kz.data[0,0], \"Vertical eddy diffusivity at surface (m$^2$/s)\")"
   ]
  },
  {
   "cell_type": "markdown",
   "metadata": {},
   "source": [
    "Plot biology related fields"
   ]
  },
  {
   "cell_type": "code",
   "execution_count": null,
   "metadata": {},
   "outputs": [],
   "source": [
    "## Plot pp_phyto\n",
    "plot_field(fieldset.pp_phyto.grid.lon, fieldset.pp_phyto.grid.lat, fieldset.pp_phyto.data[0,0], \"Total Primary Production of Phyto (mg m$^{-3}$/d)\")\n",
    "plot_field(fieldset.bio_diatom.grid.lon, fieldset.bio_diatom.grid.lat, fieldset.bio_diatom.data[0,0], \"Mole concentration of Diatoms\\n expressed as carbon in sea water\")\n",
    "plot_field(fieldset.pp_phyto.grid.lon, fieldset.pp_phyto.grid.lat, fieldset.pp_phyto.data[0,0], \"Mole concentration of nanophytoplankton\\n expressed as carbon in sea water\")"
   ]
  },
  {
   "cell_type": "markdown",
   "metadata": {},
   "source": [
    "# Parcels can also be used as a standalone field interpolator\n",
    "There are two ways to access the data in each Parcels field object. Firstly, as above, accessing the data directly and using the grid indices directly.\n",
    "\n",
    "Another way to access the field data is to pass the field a (time, depth, latitude, longitude) tuple, from which Parcels will interpolate the data for you.\n",
    "\n",
    "<div class=\"alert alert-info\">\n",
    "Note: The U,V fields are on a curvilinear grid, and the velocities are in the i- and j-directions. The UV field is a Parcels VectorField which references the U and V fields, appropriately rotating and scaling the i/j-vectors into zonal- and meridional-directions. Other velocity fields (e.g. wind) need their units to be converted when loaded as a field.\n",
    "</div>\n"
   ]
  },
  {
   "cell_type": "code",
   "execution_count": null,
   "metadata": {},
   "outputs": [],
   "source": [
    "# Sample the U,V ocean velocities at the ocean surface somewhere in the Mediterranean\n",
    "poi = [35.25, 20.11] # Point of Interest: 35.25deg North, 20.11deg East\n",
    "\n",
    "U_value = fieldset.U[0,0,poi[0],poi[1]]\n",
    "V_value = fieldset.V[0,0,poi[0],poi[1]]\n",
    "print(\"Surface velocities in the i-, j-directions:\", U_value, V_value, \" (degrees/s).\")\n",
    "\n",
    "U_value, V_value = fieldset.UV[0,0,poi[0],poi[1]]\n",
    "print(\"Surface velocities in the zonal-, meridional-directions:\", U_value, V_value, \" (degrees/s)\")"
   ]
  },
  {
   "cell_type": "markdown",
   "metadata": {},
   "source": [
    "We can also convert the values back into units of m/s by using the applyConversion parameter"
   ]
  },
  {
   "cell_type": "code",
   "execution_count": null,
   "metadata": {},
   "outputs": [],
   "source": [
    "U_value, V_value = fieldset.UV.eval(0, 0, poi[0],poi[1], applyConversion=False)\n",
    "print(\"Surface velocities in the zonal-, meridional-directions:\", U_value, V_value, \" (m/s)\")"
   ]
  },
  {
   "cell_type": "code",
   "execution_count": null,
   "metadata": {},
   "outputs": [],
   "source": [
    "## Determine the ocean depth at the point of interest\n",
    "print(fieldset.bathymetry[0,0,poi[0], poi[1]])"
   ]
  },
  {
   "cell_type": "code",
   "execution_count": null,
   "metadata": {},
   "outputs": [],
   "source": [
    "## Determine the wind velocity at the point of interest\n",
    "Wind_U_value = fieldset.Wind_U[0,0,poi[0],poi[1]]\n",
    "Wind_V_value = fieldset.Wind_V[0,0,poi[0],poi[1]]\n",
    "print(\"Surface wind velocities: \", Wind_U_value, Wind_V_value, \" (degrees/s).\")\n",
    "\n",
    "Wind_U_value = fieldset.Wind_U.eval(0, 0, poi[0],poi[1], applyConversion=False)\n",
    "Wind_V_value = fieldset.Wind_V.eval(0, 0, poi[0],poi[1], applyConversion=False)\n",
    "print(\"Surface wind velocities: \", Wind_U_value, Wind_V_value, \" (m/s).\")"
   ]
  },
  {
   "cell_type": "markdown",
   "metadata": {},
   "source": [
    "# Particle Sets\n",
    "We will now create some particle sets which represent release locations for microplastic particles.\n",
    "\n",
    "In the first instance, we will create a basic particle set using Parcels. Since our microplastic particles require additional variables (e.g. windage coefficients and settling velocities), we will still use the PlasticParcels helper functions.\n",
    "\n",
    "In the second instance, we will use PlasticParcels to create more complicated particle sets that replicate likely microplastic release locations. These release locations are determined using a range of datasets.\n"
   ]
  },
  {
   "cell_type": "markdown",
   "metadata": {},
   "source": [
    "## Creating a simple particle set\n",
    "Parcels includes a number of methods to create particle sets.\n",
    "\n",
    "The most commonly used is `ParticleSet.from_list()`, which allows you to pass through a list of longitudes, latitudes, depths, and times.\n",
    "\n",
    "Below, we randomly place particles in a box at different depths, and given these particles a wind coefficient, density, and diameter."
   ]
  },
  {
   "cell_type": "code",
   "execution_count": null,
   "metadata": {},
   "outputs": [],
   "source": [
    "## Number of particles to release\n",
    "n_particles = 100\n",
    "\n",
    "## Randomly place particle release locations on a grid\n",
    "lons = np.random.uniform(2,7,n_particles)\n",
    "lats = np.random.uniform(37,42,n_particles)\n",
    "\n",
    "## Randomly place the particles between the ocean surface and 50m depth\n",
    "depths = np.random.uniform(0,50, n_particles)\n",
    "\n",
    "## Create a dictionary of lists containing release location information \n",
    "release_locations = {'lons': lons,\n",
    "                     'lats': lats,\n",
    "                     'depths': depths\n",
    "}\n",
    "\n",
    "## Define particle properties\n",
    "wind_coefficient = 0.01 # Percent of wind speed to apply\n",
    "plastic_density = 1020. # Particle density (kg/m^3)\n",
    "plastic_diameter = 0.001 # Partice diameter (m)\n",
    "## Particleset settings\n",
    "particle_settings.update({'release_locations': release_locations, # A dictionary of lons, lats, depths (optional), and times (optional)\n",
    "                          'windage_coefficient': wind_coefficient, # A float or Nx1 array of windage coefficients, values in [0,1] [percent of wind speed]\n",
    "                          'particle_density': plastic_density, # A float or Nx1 array of particle densities [kg m-3]\n",
    "                          'particle_diameter': plastic_diameter, # A float or Nx1 array of particle lengths [m]\n",
    "                          'write_output_option': 'none' # Option to write variables. Options: 'none' (default), 'tracer' (saves tracer fields), 'dynamic' (saves all variables that change spatiotemporally), 'all' (saves all variables)\n",
    "                           })"
   ]
  },
  {
   "cell_type": "code",
   "execution_count": null,
   "metadata": {},
   "outputs": [],
   "source": [
    "## Create the particle set, and kernels required for the simulation\n",
    "pset = create_particleset(fieldset, particle_settings)\n",
    "kernels = create_kernel(fieldset, pset)"
   ]
  },
  {
   "cell_type": "markdown",
   "metadata": {},
   "source": [
    "Let's take a look at the particle set"
   ]
  },
  {
   "cell_type": "code",
   "execution_count": null,
   "metadata": {},
   "outputs": [],
   "source": [
    "print(pset)"
   ]
  },
  {
   "cell_type": "markdown",
   "metadata": {},
   "source": [
    "These particle sets can be indexed by particle id"
   ]
  },
  {
   "cell_type": "code",
   "execution_count": null,
   "metadata": {},
   "outputs": [],
   "source": [
    "print(\"Information saved for particle_id = 4:\", pset[4])"
   ]
  },
  {
   "cell_type": "markdown",
   "metadata": {},
   "source": [
    "Plot the particles, and list the kernels that will be used"
   ]
  },
  {
   "cell_type": "code",
   "execution_count": null,
   "metadata": {},
   "outputs": [],
   "source": [
    "fig = plt.figure()\n",
    "ax = plt.axes(projection=ccrs.PlateCarree())\n",
    "ax.scatter(pset.lon, pset.lat, s=2, transform=ccrs.PlateCarree())\n",
    "ax.coastlines()\n",
    "ax.gridlines(draw_labels=True)\n",
    "plt.title(\"Initial particle positions\")\n",
    "plt.show()\n",
    "\n",
    "fig = plt.figure()\n",
    "ax = plt.axes(projection=ccrs.PlateCarree())\n",
    "ax.scatter(pset.lon, pset.lat, s=2, transform=ccrs.PlateCarree())\n",
    "ax.coastlines()\n",
    "ax.gridlines(draw_labels=True)\n",
    "ax.set_xlim([np.min(pset.lon)-25, np.max(pset.lon)+25])\n",
    "ax.set_ylim([np.min(pset.lat)-25, np.max(pset.lat)+25])\n",
    "plt.title(\"Initial particle positions\")\n",
    "plt.show()"
   ]
  },
  {
   "cell_type": "markdown",
   "metadata": {},
   "source": [
    "List the kernels that will be used in the particle advection.\n",
    "For documentation on the kernels, see `PlasticParcels/kernels.py`"
   ]
  },
  {
   "cell_type": "code",
   "execution_count": null,
   "metadata": {},
   "outputs": [],
   "source": [
    "kernels"
   ]
  },
  {
   "cell_type": "markdown",
   "metadata": {},
   "source": [
    "We will now advect these particles. We first need to create a Parcels `ParticleFile` where we will store our output. To advect the particles, we simply use the `execute` method."
   ]
  },
  {
   "cell_type": "code",
   "execution_count": null,
   "metadata": {},
   "outputs": [],
   "source": [
    "## Define the runtime, the timestepping, and the output frequency of the simulation\n",
    "runtime = particle_settings['runtime']\n",
    "dt_timestep = particle_settings['dt_timestep']\n",
    "dt_write = particle_settings['dt_write']\n",
    "\n",
    "## Create the particle file where output will be stored\n",
    "pfile = ParticleFile('simple_release.zarr', pset, outputdt=dt_write)\n",
    "\n",
    "## Execute the simulation\n",
    "pset.execute(kernels, runtime=runtime, dt=dt_timestep, output_file=pfile)\n"
   ]
  },
  {
   "cell_type": "markdown",
   "metadata": {},
   "source": [
    "Plot the final locations of the particles"
   ]
  },
  {
   "cell_type": "code",
   "execution_count": null,
   "metadata": {},
   "outputs": [],
   "source": [
    "fig = plt.figure()\n",
    "ax = plt.axes(projection=ccrs.PlateCarree())\n",
    "ax.scatter(pset.lon, pset.lat, s=2, transform=ccrs.PlateCarree())\n",
    "ax.coastlines()\n",
    "ax.gridlines(draw_labels=True)\n",
    "plt.title(\"Final particle positions\")\n",
    "plt.show()\n",
    "\n",
    "fig = plt.figure()\n",
    "ax = plt.axes(projection=ccrs.PlateCarree())\n",
    "ax.scatter(pset.lon, pset.lat, s=2, transform=ccrs.PlateCarree())\n",
    "ax.coastlines()\n",
    "ax.gridlines(draw_labels=True)\n",
    "ax.set_xlim([np.min(pset.lon)-25, np.max(pset.lon)+25])\n",
    "ax.set_ylim([np.min(pset.lat)-25, np.max(pset.lat)+25])\n",
    "plt.title(\"Final particle positions\")\n",
    "plt.show()"
   ]
  },
  {
   "cell_type": "markdown",
   "metadata": {},
   "source": [
    "<div class=\"alert alert-info\">\n",
    "To analyse the output, you can follow the Parcels tutorial here: https://docs.oceanparcels.org/en/latest/examples/tutorial_output.html\n",
    "</div>"
   ]
  },
  {
   "cell_type": "markdown",
   "metadata": {},
   "source": [
    "## Creating a more likely plastic particle release map\n",
    "\n",
    "### Plastics emitted on the coast\n",
    "We use the mismanaged plastic waste estimates by country from Jambeck et. al \"Plastic waste inputs from land into the ocean\", Science (2015) (DOI: 10.1126/science.1260352) combined with the NASA GPW v4.11 global population dataset (see https://sedac.ciesin.columbia.edu/data/set/gpw-v4-population-density-rev11/) and the Natural Earth coastline vector dataset (see https://www.naturalearthdata.com/) in order to create a likely 'coastal' particle release map.\n"
   ]
  },
  {
   "cell_type": "code",
   "execution_count": null,
   "metadata": {},
   "outputs": [],
   "source": [
    "# File locations\n",
    "coastal = './../../data/release/generated_files/coastal_population_MPW_NEMO0083.csv'\n",
    "rivers = './../../data/release/generated_files/river_emissions_NEMO0083.csv'\n",
    "fisheries = './../../data/release/generated_files/agg_data_fisheries_info.csv'\n",
    "\n",
    "# Read and print coastal dataset\n",
    "plastic_release = pd.read_csv(coastal)\n",
    "plastic_release"
   ]
  },
  {
   "cell_type": "markdown",
   "metadata": {},
   "source": [
    "### Particles emitted at river outlets\n",
    "We use the  from Meijer et. al \"More than 1000 rivers account for 80% of global riverine plastic emissions into the ocean\" Science Advances (2021) (DOI: 10.1126/sciadv.aaz5803) combined with the Natural Earth coastline vector dataset to create a likely 'river' particle release map.\n"
   ]
  },
  {
   "cell_type": "code",
   "execution_count": null,
   "metadata": {},
   "outputs": [],
   "source": [
    "# Read and print coastal dataset\n",
    "plastic_release = pd.read_csv(rivers)\n",
    "plastic_release"
   ]
  },
  {
   "cell_type": "markdown",
   "metadata": {},
   "source": [
    "### Particles emitted from fishing-related activity\n",
    "Lastly, we use the Global Fishing Watch public fishing effort dataset (see https://globalfishingwatch.org/data-download/datasets/public-fishing-effort) combined with the Natural Earth coastline vector dataset to create a likely 'fisheries' particle release map."
   ]
  },
  {
   "cell_type": "code",
   "execution_count": null,
   "metadata": {},
   "outputs": [],
   "source": [
    "# Read and print coastal dataset\n",
    "plastic_release = pd.read_csv(fisheries)\n",
    "plastic_release"
   ]
  },
  {
   "cell_type": "code",
   "execution_count": null,
   "metadata": {},
   "outputs": [],
   "source": [
    "del(plastic_release)"
   ]
  },
  {
   "cell_type": "markdown",
   "metadata": {},
   "source": [
    "### Create a particle set with these release settings"
   ]
  },
  {
   "cell_type": "code",
   "execution_count": null,
   "metadata": {},
   "outputs": [],
   "source": [
    "## First we need to remove the release locations we used in the basic example above\n",
    "del(particle_settings['release_locations'])"
   ]
  },
  {
   "cell_type": "code",
   "execution_count": null,
   "metadata": {},
   "outputs": [],
   "source": [
    "## Remove any settings previously applied\n",
    "settings_to_remove = ['release_type', 'particle_density', 'particle_diameter', 'windage_coefficient',\n",
    "                      'continent', 'subregion', 'region', 'subregion', 'country']\n",
    "\n",
    "for setting in settings_to_remove:\n",
    "    if setting in particle_settings.keys():\n",
    "        del(particle_settings[setting])\n",
    "\n",
    "\n",
    "## Update your new settings here\n",
    "new_settings = {'release_type': 'coastal',\n",
    "                #'continent': '',\n",
    "                #'region': '',\n",
    "                #'subregion': 'Southern Europe',\n",
    "                'country': 'Greece',\n",
    "                'windage_coefficient' : 0.01, # Percentage of wind to apply to particles\n",
    "                'particle_diameter' : 0.001, # Plastic particle diameter (m)\n",
    "                'particle_density' : 1020. # Plastic particle density (kg/m^3)\n",
    "}\n",
    "particle_settings.update(new_settings)\n",
    "\n",
    "## Create the particleset\n",
    "pset = create_particleset_from_file(fieldset, particle_settings)\n"
   ]
  },
  {
   "cell_type": "code",
   "execution_count": null,
   "metadata": {},
   "outputs": [],
   "source": [
    "## Plot the particles initial positions\n",
    "fig = plt.figure()\n",
    "ax = plt.axes(projection=ccrs.PlateCarree())\n",
    "ax.scatter(pset.lon, pset.lat, s=2, transform=ccrs.PlateCarree())\n",
    "ax.coastlines()\n",
    "ax.gridlines(draw_labels=True)\n",
    "plt.title(\"Initial particle positions\")\n",
    "plt.show()"
   ]
  },
  {
   "cell_type": "code",
   "execution_count": null,
   "metadata": {},
   "outputs": [],
   "source": [
    "## Define the runtime, the timestepping, and the output frequency of the simulation\n",
    "runtime = particle_settings['runtime']\n",
    "dt_timestep = particle_settings['dt_timestep']\n",
    "dt_write = particle_settings['dt_write']\n",
    "\n",
    "## Create the particle file where output will be stored\n",
    "pfile = ParticleFile('advanced_release.zarr', pset, outputdt=dt_write)\n",
    "\n",
    "## Execute the simulation\n",
    "pset.execute(kernels, runtime=runtime, dt=dt_timestep, output_file=pfile)"
   ]
  },
  {
   "cell_type": "code",
   "execution_count": null,
   "metadata": {},
   "outputs": [],
   "source": [
    "## Plot the particles final positions\n",
    "fig = plt.figure()\n",
    "ax = plt.axes(projection=ccrs.PlateCarree())\n",
    "ax.scatter(pset.lon, pset.lat, s=2, transform=ccrs.PlateCarree())\n",
    "ax.coastlines()\n",
    "ax.gridlines(draw_labels=True)\n",
    "plt.title(\"Final particle positions\")\n",
    "plt.show()"
   ]
  },
  {
   "cell_type": "markdown",
   "metadata": {},
   "source": [
    "# Particle Trajectory Analysis\n",
    "You can now analyse your particle sets. Rather than re-invent the wheel, we point you to the Parcels tutorial https://docs.oceanparcels.org/en/latest/examples/tutorial_output.html which explains how to read and analyse Parcels particle trajectory datasets."
   ]
  },
  {
   "cell_type": "code",
   "execution_count": null,
   "metadata": {},
   "outputs": [],
   "source": []
  }
 ],
 "metadata": {
  "kernelspec": {
   "display_name": "py3_parcels",
   "language": "python",
   "name": "python3"
  },
  "language_info": {
   "codemirror_mode": {
    "name": "ipython",
    "version": 3
   },
   "file_extension": ".py",
   "mimetype": "text/x-python",
   "name": "python",
   "nbconvert_exporter": "python",
   "pygments_lexer": "ipython3",
   "version": "3.11.4"
  }
 },
 "nbformat": 4,
 "nbformat_minor": 2
}
