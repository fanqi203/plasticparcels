{
  "cells": [
    {
      "cell_type": "markdown",
      "metadata": {},
      "source": [
        "# PlasticParcels tutorial for the DRAKKAR Workshop 2024 in Grenoble"
      ]
    },
    {
      "cell_type": "markdown",
      "metadata": {
        "id": "dz6oa-ni67wj"
      },
      "source": [
        "<div class=\"alert alert-info\">\n",
        "\n",
        "The first few cells of this tutorial are pre-processing steps in order to get everything working on google colab.\n",
        "\n",
        "</div>"
      ]
    },
    {
      "cell_type": "markdown",
      "metadata": {
        "id": "dT5wMhlq8Bxs"
      },
      "source": [
        "### Install parcels and data download"
      ]
    },
    {
      "cell_type": "code",
      "execution_count": null,
      "metadata": {
        "id": "XPKykYSQ34vJ"
      },
      "outputs": [],
      "source": [
        "!mkdir data_download\n",
        "!mkdir data\n",
        "!mkdir PlasticParcels\n",
        "!mkdir output_data"
      ]
    },
    {
      "cell_type": "code",
      "execution_count": null,
      "metadata": {
        "id": "2K-5RSB-5HZP"
      },
      "outputs": [],
      "source": [
        "## Install parcels\n",
        "import zipfile\n",
        "import os"
      ]
    },
    {
      "cell_type": "code",
      "execution_count": null,
      "metadata": {
        "colab": {
          "base_uri": "https://localhost:8080/"
        },
        "id": "8hmSW7UJUdO8",
        "outputId": "5a03f29c-ae96-48f0-a045-0e37e228e7d3"
      },
      "outputs": [],
      "source": [
        "packages = ['cgen',\n",
        "            'netcdf4>=1.1.9',\n",
        "            'numpy>=1.9.1',\n",
        "            'psutil',\n",
        "            'pymbolic',\n",
        "            'scipy',\n",
        "            'tqdm',\n",
        "            'xarray>=0.10.8',\n",
        "            'cftime>=1.3.1',\n",
        "            'dask>=2.0',\n",
        "            'zarr>=2.11.0',\n",
        "            'matplotlib-base >=2.0.2',\n",
        "            'cartopy',\n",
        "            'parcels']\n",
        "\n",
        "for package in packages:\n",
        "  os.system('pip install \"'+package+'\"')\n",
        "  print(package)"
      ]
    },
    {
      "cell_type": "code",
      "execution_count": null,
      "metadata": {
        "colab": {
          "base_uri": "https://localhost:8080/",
          "height": 652
        },
        "id": "hoW6ozA04wue",
        "outputId": "cdf7ef3d-c0d1-4da1-99b3-73373b1bb0c4"
      },
      "outputs": [],
      "source": [
        "## Download required data for the tutorial\n",
        "files = [\"coordinates.zip\",\n",
        "         \"release.zip\",\n",
        "         \"unbeaching.zip\",\n",
        "         \"daily_U.zip\",\n",
        "         \"daily_V.zip\",\n",
        "         \"daily_W.zip\",\n",
        "         \"ERA5.zip\"]\n",
        "\n",
        "for file in files:\n",
        "  print(file)\n",
        "  os.system(f\"curl https://plasticadrift.science.uu.nl/PlasticParcels_tutorialdata/{file} > ./data_download/{file}\")\n",
        "\n",
        "## Download the python-files for PlasticParcels\n",
        "pp_files = [\"helper.py\",\n",
        "            \"kernels.py\",\n",
        "            \"utils.py\"]\n",
        "\n",
        "for file in pp_files:\n",
        "  print(file)\n",
        "  os.system(f\"curl https://raw.githubusercontent.com/OceanParcels/PlasticParcels/main/src/DRAKKAR%20workshop%20code/PlasticParcels/{file} > ./PlasticParcels/{file}\")"
      ]
    },
    {
      "cell_type": "code",
      "execution_count": null,
      "metadata": {
        "colab": {
          "base_uri": "https://localhost:8080/"
        },
        "id": "l4rWBopK4-33",
        "outputId": "ca64b20d-82aa-4a58-d614-7aa0b9f951ed"
      },
      "outputs": [],
      "source": [
        "## Unzip data and delete the .zip file\n",
        "download_files = os.listdir('./data_download/')\n",
        "for file in download_files:\n",
        "  with zipfile.ZipFile('./data_download/'+file, 'r') as zip_ref:\n",
        "    # Unzip each file\n",
        "    zip_ref.extractall('./data/')\n",
        "\n",
        "    # Delete .zip file\n",
        "    os.remove('./data_download/'+file)\n",
        "    print(file, 'unzipped')\n",
        "    zip_ref.close()"
      ]
    },
    {
      "cell_type": "markdown",
      "metadata": {
        "id": "EQ5lNsuF74HL"
      },
      "source": [
        "# PlasticParcels Tutorial\n",
        "In this tutorial we will introduce you to some of the basic Parcels functions, as well as utilise the PlasticParcels tool for simulating microplastic pollution. In order to limit the depands on data transfer and storage/memory, this tutorial only works in the Mediterranean sea. But note that in general, the [PlasticParcels package](https://github.com/OceanParcels/PlasticParcels) works globally.\n",
        "\n",
        "By the end of this tutorial, you should be able to create a fieldset that contains NEMO hydrodynamic (and other) fields, create a particleset that represent marine microplastic pollution release locations, and apply physics parameterisations to simulate the dispersal of microplastics in the ocean.\n",
        "\n",
        "We will start by importing a number of necessary packages."
      ]
    },
    {
      "cell_type": "code",
      "execution_count": null,
      "metadata": {
        "id": "I316QFXi6gdI"
      },
      "outputs": [],
      "source": [
        "## Library imports\n",
        "import os\n",
        "import numpy as np\n",
        "import pandas as pd\n",
        "from datetime import datetime, timedelta\n",
        "\n",
        "# Parcels and PlasticParcels imports\n",
        "from parcels import ParticleFile\n",
        "from PlasticParcels.helper import create_fieldset, create_particleset, create_kernel, load_default_settings, create_particleset_from_file, load_test_settings\n",
        "#from utils import select_files, create_directory, getclosest_ij\n",
        "\n",
        "## Plotting imports\n",
        "import matplotlib.pyplot as plt\n",
        "import cartopy.crs as ccrs\n",
        "\n"
      ]
    },
    {
      "cell_type": "markdown",
      "metadata": {},
      "source": [
        "# Model settings\n",
        "Using PlasticParcels, we will load the default settings for our sumulations, using the `load_default_settings` function.\n",
        "\n",
        "This returns two dictionaries of parameters, one used for fieldset creation, the other for particleset creation.\n",
        "\n",
        "You can update the parameters by updating the dictionaries as necessary.\n",
        "\n",
        "The description of each parameter can be found in the [PlasticParcels/helper.py](https://github.com/OceanParcels/PlasticParcels/blob/main/src/DRAKKAR%20workshop%20code/PlasticParcels/helper.py) file."
      ]
    },
    {
      "cell_type": "code",
      "execution_count": null,
      "metadata": {
        "id": "8z7lGH49_J8p"
      },
      "outputs": [],
      "source": [
        "## Load the default model and particle settings\n",
        "model_settings, particle_settings = load_default_settings()"
      ]
    },
    {
      "cell_type": "code",
      "execution_count": null,
      "metadata": {},
      "outputs": [],
      "source": [
        "## View settings\n",
        "model_settings"
      ]
    },
    {
      "cell_type": "code",
      "execution_count": null,
      "metadata": {},
      "outputs": [],
      "source": [
        "## Update settings\n",
        "\n",
        "# e.g. turn off Stokes Drift\n",
        "#model_settings['stokes_f'] = False\n",
        "\n",
        "# e.g. turn off windage\n",
        "#model_settings['wind_f'] = False"
      ]
    },
    {
      "cell_type": "markdown",
      "metadata": {},
      "source": [
        "# Create a Parcels fieldset\n",
        "We now create the fieldset that contains all the required fields (ocean velocities, temperature and salinity, ocean biology, winds and waves, etc.).\n",
        "\n",
        "We loaded the default settings above, which we will pass into the `create_fieldset` PlasticParcels function. This removes a lot of the complexity when creating fieldsets with a large number of underlying fields. This function returns a Parcels fieldset object."
      ]
    },
    {
      "cell_type": "code",
      "execution_count": null,
      "metadata": {},
      "outputs": [],
      "source": [
        "fieldset = create_fieldset(model_settings, particle_settings)\n",
        "\n",
        "print(\"Time origin of data: \", fieldset.time_origin)"
      ]
    },
    {
      "cell_type": "markdown",
      "metadata": {},
      "source": [
        "To list all the fields that are present we use `.get_fields()` method to return a list of the fields, which we can then utilise and analyse."
      ]
    },
    {
      "cell_type": "code",
      "execution_count": null,
      "metadata": {},
      "outputs": [],
      "source": [
        "for parcels_field in fieldset.get_fields():\n",
        "    print(parcels_field.name)"
      ]
    },
    {
      "cell_type": "markdown",
      "metadata": {},
      "source": [
        "## Plotting Parcels Fields\n",
        "Parcels fields are not loaded into memory immediately. Rather, the fields are only loaded when they are required (deferred load). Often, the hydrodynamic data alone can be hundreds of GBs. To visualise these fields we can load in the first timestep of the data.\n",
        "\n",
        "We do this using the `.computeTimeChunk()` method, which takes as input a model time to load. Once loaded, we plot the resulting fields using the `pcolormesh` matplotlib function. Below is a small snippet of code used to plot these fields.\n",
        "\n",
        "**A key highlight here is that Parcels handles different spatial grids and temporal resolutions automatically, and can even use different interpolation methods on each.**\n"
      ]
    },
    {
      "cell_type": "markdown",
      "metadata": {},
      "source": [
        "<div class=\"alert alert-info\">\n",
        "Note - The plots below are indicative only. Since the data is on a C-grid, and the plotting assumes we are passing T-points, there is a slight spatial shift to the data. This is only an issue with our basic plotting below, Parcels correctly interprets the grids.\n",
        "</div>"
      ]
    },
    {
      "cell_type": "code",
      "execution_count": null,
      "metadata": {},
      "outputs": [],
      "source": [
        "## Load data into memory\n",
        "fieldset.computeTimeChunk(0,1)"
      ]
    },
    {
      "cell_type": "code",
      "execution_count": null,
      "metadata": {},
      "outputs": [],
      "source": [
        "## Plotting function\n",
        "def plot_field(lons, lats, data, title):\n",
        "    fig = plt.figure()\n",
        "    ax = plt.axes(projection=ccrs.PlateCarree())\n",
        "    colors = ax.pcolormesh(lons, lats, data, transform=ccrs.PlateCarree())\n",
        "    ax.coastlines()\n",
        "    ax.gridlines(draw_labels=True)\n",
        "    plt.title(title)\n",
        "    plt.colorbar(colors)\n",
        "    plt.show()\n"
      ]
    },
    {
      "cell_type": "markdown",
      "metadata": {},
      "source": [
        "Note that some fields have no depth component (e.g. wind, waves), and so the shape of their data is different, and should be indexed differently."
      ]
    },
    {
      "cell_type": "code",
      "execution_count": null,
      "metadata": {},
      "outputs": [],
      "source": [
        "print(\"The usual shape order is (time, depth, latitude, longitude)\")\n",
        "print(\"Ocean U velocity data shape:\", fieldset.U.data.shape)\n",
        "print(\"Ocean V velocity data shape:\", fieldset.V.data.shape)\n",
        "print(\"Wind U velocity data shape:\", fieldset.Wind_U.data.shape)\n",
        "print(\"Wind V velocity data shape:\", fieldset.Wind_U.data.shape)"
      ]
    },
    {
      "cell_type": "markdown",
      "metadata": {},
      "source": [
        "Plot the ocean surface velocity fields"
      ]
    },
    {
      "cell_type": "code",
      "execution_count": null,
      "metadata": {},
      "outputs": [],
      "source": [
        "## Plot velocity fields\n",
        "plot_field(fieldset.U.grid.lon, fieldset.U.grid.lat, fieldset.U.data[0,0], \"Surface velocity in i-direction (m/s)\")\n",
        "plot_field(fieldset.V.grid.lon, fieldset.V.grid.lat, fieldset.V.data[0,0], \"Surface velocity in j-direction (m/s)\")"
      ]
    },
    {
      "cell_type": "markdown",
      "metadata": {},
      "source": [
        "<div class=\"alert alert-info\">\n",
        "Note: The U,V fields are on a curvilinear grid, and the velocities are in the i- and j-directions. Parcels automatically rotates these vectors into the zonal- and meridional-directions when performing interpolation.\n",
        "</div>"
      ]
    },
    {
      "cell_type": "markdown",
      "metadata": {},
      "source": [
        "Plot the 10m-wind velocity fields"
      ]
    },
    {
      "cell_type": "code",
      "execution_count": null,
      "metadata": {},
      "outputs": [],
      "source": [
        "## Plot Wind velocity fields\n",
        "plot_field(fieldset.Wind_U.grid.lon, fieldset.Wind_U.grid.lat, fieldset.Wind_U.data[0], \"Zonal wind velocity (m/s)\")\n",
        "plot_field(fieldset.Wind_V.grid.lon, fieldset.Wind_V.grid.lat, fieldset.Wind_V.data[0], \"Meridional wind velocity (m/s)\")"
      ]
    },
    {
      "cell_type": "markdown",
      "metadata": {},
      "source": [
        "# Parcels can also be used as a standalone field interpolator\n",
        "There are two ways to access the data in each Parcels field object. Firstly, as above, accessing the data directly and using the grid indices directly.\n",
        "\n",
        "Another way to access the field data is to pass the field a (time, depth, latitude, longitude) tuple, from which Parcels will interpolate the data for you.\n",
        "\n",
        "<div class=\"alert alert-info\">\n",
        "Note: The U,V fields are on a curvilinear grid, and the velocities are in the i- and j-directions. The UV field is a Parcels VectorField which references the U and V fields, appropriately rotating and scaling the i/j-vectors into zonal- and meridional-directions. Other velocity fields (e.g. wind) need their units to be converted when loaded as a field.\n",
        "</div>\n"
      ]
    },
    {
      "cell_type": "code",
      "execution_count": null,
      "metadata": {},
      "outputs": [],
      "source": [
        "# Sample the U,V ocean velocities at the ocean surface somewhere in the Mediterranean\n",
        "(plat, plon) = (35.25, 20.11) # Point of Interest: 35.25deg North, 20.11deg East\n",
        "\n",
        "U_value = fieldset.U[0, 0, plat, plon]\n",
        "V_value = fieldset.V[0, 0, plat, plon]\n",
        "print(\"Surface velocities in the i-, j-directions:\", U_value, V_value, \" (degrees/s).\")\n",
        "\n",
        "U_value, V_value = fieldset.UV[0, 0, plat, plon]\n",
        "print(\"Surface velocities in the zonal-, meridional-directions:\", U_value, V_value, \" (degrees/s)\")"
      ]
    },
    {
      "cell_type": "markdown",
      "metadata": {},
      "source": [
        "We can also convert the values back into units of m/s by using the applyConversion parameter"
      ]
    },
    {
      "cell_type": "code",
      "execution_count": null,
      "metadata": {},
      "outputs": [],
      "source": [
        "U_value, V_value = fieldset.UV.eval(0, 0, plat, plon, applyConversion=False)\n",
        "print(\"Surface velocities in the zonal-, meridional-directions:\", U_value, V_value, \" (m/s)\")"
      ]
    },
    {
      "cell_type": "code",
      "execution_count": null,
      "metadata": {},
      "outputs": [],
      "source": [
        "## Determine the wind velocity at the point of interest\n",
        "Wind_U_value = fieldset.Wind_U[0, 0, plat, plon]\n",
        "Wind_V_value = fieldset.Wind_V[0, 0, plat, plon]\n",
        "print(\"Surface wind velocities: \", Wind_U_value, Wind_V_value, \" (degrees/s).\")\n",
        "\n",
        "Wind_U_value = fieldset.Wind_U.eval(0, 0, plat, plon, applyConversion=False)\n",
        "Wind_V_value = fieldset.Wind_V.eval(0, 0, plat, plon, applyConversion=False)\n",
        "print(\"Surface wind velocities: \", Wind_U_value, Wind_V_value, \" (m/s).\")"
      ]
    },
    {
      "cell_type": "markdown",
      "metadata": {},
      "source": [
        "# Particle Sets\n",
        "We will now create two instances of particlesets which represent release locations for microplastic particles.\n",
        "\n",
        "In the first instance, we will create a basic particleset using Parcels. Since our microplastic particles require additional variables (e.g. windage coefficients and settling velocities), we will still use the PlasticParcels helper functions.\n",
        "\n",
        "In the second instance, we will use PlasticParcels to create more complicated particlesets that replicate likely microplastic release locations. These release locations are determined using a range of datasets.\n"
      ]
    },
    {
      "cell_type": "markdown",
      "metadata": {},
      "source": [
        "## Creating a simple particle set\n",
        "Parcels includes a number of methods to create particle sets.\n",
        "\n",
        "The most commonly used is `ParticleSet.from_list()`, which allows you to pass through a list of longitudes, latitudes, depths, and times.\n",
        "\n",
        "Below, we randomly place particles in a box at different depths, and given these particles a wind coefficient, density, and diameter."
      ]
    },
    {
      "cell_type": "code",
      "execution_count": null,
      "metadata": {},
      "outputs": [],
      "source": [
        "## Number of particles to release\n",
        "n_particles = 100\n",
        "\n",
        "## Randomly place particle release locations on a grid\n",
        "lons = np.random.uniform(2, 7, n_particles)\n",
        "lats = np.random.uniform(37, 42, n_particles)\n",
        "\n",
        "## Create a dictionary of lists containing release location information\n",
        "release_locations = {'lons': lons,\n",
        "                     'lats': lats\n",
        "}\n",
        "\n",
        "## Define particle properties\n",
        "wind_coefficient = 0.01 # Percent of wind speed to apply\n",
        "plastic_density = 1020. # Particle density (kg/m^3)\n",
        "plastic_diameter = 0.001 # Partice diameter (m)\n",
        "## Particleset settings\n",
        "particle_settings.update({'release_locations': release_locations, # A dictionary of lons, lats, depths (optional), and times (optional)\n",
        "                          'windage_coefficient': wind_coefficient, # A float or Nx1 array of windage coefficients, values in [0,1] [percent of wind speed]\n",
        "                          'particle_density': plastic_density, # A float or Nx1 array of particle densities [kg m-3]\n",
        "                          'particle_diameter': plastic_diameter, # A float or Nx1 array of particle lengths [m]\n",
        "                          'write_output_option': 'none' # Option to write variables. Options: 'none' (default), 'tracer' (saves tracer fields), 'dynamic' (saves all variables that change spatiotemporally), 'all' (saves all variables)\n",
        "                           })"
      ]
    },
    {
      "cell_type": "code",
      "execution_count": null,
      "metadata": {},
      "outputs": [],
      "source": [
        "## Create the particleset, and kernels required for the simulation\n",
        "pset = create_particleset(fieldset, particle_settings)\n",
        "kernels = create_kernel(fieldset, pset)"
      ]
    },
    {
      "cell_type": "markdown",
      "metadata": {},
      "source": [
        "Let's take a look at the particle set"
      ]
    },
    {
      "cell_type": "code",
      "execution_count": null,
      "metadata": {},
      "outputs": [],
      "source": [
        "print(pset)"
      ]
    },
    {
      "cell_type": "markdown",
      "metadata": {},
      "source": [
        "These particle sets can be indexed by particle id"
      ]
    },
    {
      "cell_type": "code",
      "execution_count": null,
      "metadata": {},
      "outputs": [],
      "source": [
        "print(\"Information saved for particle_id = 4:\", pset[4])"
      ]
    },
    {
      "cell_type": "markdown",
      "metadata": {},
      "source": [
        "Plot the particles, and list the kernels that will be used"
      ]
    },
    {
      "cell_type": "code",
      "execution_count": null,
      "metadata": {},
      "outputs": [],
      "source": [
        "fig = plt.figure()\n",
        "ax = plt.axes(projection=ccrs.PlateCarree())\n",
        "ax.scatter(pset.lon, pset.lat, s=2, transform=ccrs.PlateCarree())\n",
        "ax.coastlines()\n",
        "ax.gridlines(draw_labels=True)\n",
        "plt.title(\"Initial particle positions\")\n",
        "plt.show()\n",
        "\n",
        "fig = plt.figure()\n",
        "ax = plt.axes(projection=ccrs.PlateCarree())\n",
        "ax.scatter(pset.lon, pset.lat, s=2, transform=ccrs.PlateCarree())\n",
        "ax.coastlines()\n",
        "ax.gridlines(draw_labels=True)\n",
        "ax.set_xlim([np.min(pset.lon)-25, np.max(pset.lon)+25])\n",
        "ax.set_ylim([np.min(pset.lat)-25, np.max(pset.lat)+25])\n",
        "plt.title(\"Initial particle positions\")\n",
        "plt.show()"
      ]
    },
    {
      "cell_type": "markdown",
      "metadata": {},
      "source": [
        "List the kernels that will be used in the particle advection.\n",
        "For documentation on the kernels, see [PlasticParcels/kernels.py](https://github.com/OceanParcels/PlasticParcels/blob/main/src/DRAKKAR%20workshop%20code/PlasticParcels/kernels.py)."
      ]
    },
    {
      "cell_type": "code",
      "execution_count": null,
      "metadata": {},
      "outputs": [],
      "source": [
        "kernels"
      ]
    },
    {
      "cell_type": "markdown",
      "metadata": {},
      "source": [
        "We will now advect these particles. We first need to create a Parcels `ParticleFile` where we will store our output. To advect the particles, we simply use the `execute` method."
      ]
    },
    {
      "cell_type": "code",
      "execution_count": null,
      "metadata": {},
      "outputs": [],
      "source": [
        "## Define the runtime, the timestepping, and the output frequency of the simulation\n",
        "runtime = particle_settings['runtime']\n",
        "dt_timestep = particle_settings['dt_timestep']\n",
        "dt_write = particle_settings['dt_write']\n",
        "\n",
        "## Create the particle file where output will be stored\n",
        "pfile = ParticleFile('simple_release.zarr', pset, outputdt=dt_write)\n",
        "\n",
        "## Execute the simulation\n",
        "pset.execute(kernels, runtime=runtime, dt=dt_timestep, output_file=pfile)\n"
      ]
    },
    {
      "cell_type": "markdown",
      "metadata": {},
      "source": [
        "Plot the final locations of the particles"
      ]
    },
    {
      "cell_type": "code",
      "execution_count": null,
      "metadata": {},
      "outputs": [],
      "source": [
        "fig = plt.figure()\n",
        "ax = plt.axes(projection=ccrs.PlateCarree())\n",
        "ax.scatter(pset.lon, pset.lat, s=2, transform=ccrs.PlateCarree())\n",
        "ax.coastlines()\n",
        "ax.gridlines(draw_labels=True)\n",
        "plt.title(\"Final particle positions\")\n",
        "plt.show()\n",
        "\n",
        "fig = plt.figure()\n",
        "ax = plt.axes(projection=ccrs.PlateCarree())\n",
        "ax.scatter(pset.lon, pset.lat, s=2, transform=ccrs.PlateCarree())\n",
        "ax.coastlines()\n",
        "ax.gridlines(draw_labels=True)\n",
        "ax.set_xlim([np.min(pset.lon)-25, np.max(pset.lon)+25])\n",
        "ax.set_ylim([np.min(pset.lat)-25, np.max(pset.lat)+25])\n",
        "plt.title(\"Final particle positions\")\n",
        "plt.show()"
      ]
    },
    {
      "cell_type": "markdown",
      "metadata": {},
      "source": [
        "<div class=\"alert alert-info\">\n",
        "To analyse the output, you can follow the <a href=\"https://docs.oceanparcels.org/en/latest/examples/tutorial_output.html\">Working with Parcels output tutorial</a>.\n",
        "</div>"
      ]
    },
    {
      "cell_type": "markdown",
      "metadata": {},
      "source": [
        "## Creating a more likely plastic particle release map\n",
        "\n",
        "### Plastics emitted on the coast\n",
        "We use the mismanaged plastic waste estimates by country from [Jambeck et. al \"Plastic waste inputs from land into the ocean\", Science (2015)](https://www.science.org/doi/10.1126/science.1260352) combined with the [NASA GPW v4.11 global population dataset](https://sedac.ciesin.columbia.edu/data/set/gpw-v4-population-density-rev11/) and the [Natural Earth coastline vector dataset](https://www.naturalearthdata.com/) in order to create a likely 'coastal' particle release map.\n"
      ]
    },
    {
      "cell_type": "code",
      "execution_count": null,
      "metadata": {},
      "outputs": [],
      "source": [
        "# File locations\n",
        "coastal = './data/coastal_population_MPW_NEMO0083.csv'\n",
        "rivers = './data/river_emissions_NEMO0083.csv'\n",
        "fisheries = './data/agg_data_fisheries_info.csv'\n",
        "\n",
        "# Read and print coastal dataset\n",
        "plastic_release = pd.read_csv(coastal)\n",
        "plastic_release"
      ]
    },
    {
      "cell_type": "markdown",
      "metadata": {},
      "source": [
        "### Particles emitted at river outlets\n",
        "We use the data from [Meijer et al \"More than 1000 rivers account for 80% of global riverine plastic emissions into the ocean\" Science Advances (2021)](https://www.science.org/doi/10.1126/sciadv.aaz5803) combined with the Natural Earth coastline vector dataset to create a likely 'river' particle release map."
      ]
    },
    {
      "cell_type": "code",
      "execution_count": null,
      "metadata": {},
      "outputs": [],
      "source": [
        "# Read and print coastal dataset\n",
        "plastic_release = pd.read_csv(rivers)\n",
        "plastic_release"
      ]
    },
    {
      "cell_type": "markdown",
      "metadata": {},
      "source": [
        "### Particles emitted from fishing-related activity\n",
        "Lastly, we use the [Global Fishing Watch public fishing effort dataset](https://globalfishingwatch.org/data-download/datasets/public-fishing-effort) combined with the Natural Earth coastline vector dataset to create a likely 'fisheries' particle release map."
      ]
    },
    {
      "cell_type": "code",
      "execution_count": null,
      "metadata": {},
      "outputs": [],
      "source": [
        "# Read and print coastal dataset\n",
        "plastic_release = pd.read_csv(fisheries)\n",
        "plastic_release"
      ]
    },
    {
      "cell_type": "markdown",
      "metadata": {},
      "source": [
        "### Create a particle set with these release settings"
      ]
    },
    {
      "cell_type": "code",
      "execution_count": null,
      "metadata": {},
      "outputs": [],
      "source": [
        "## First we need to remove the release locations we used in the basic example above\n",
        "del(particle_settings['release_locations'])"
      ]
    },
    {
      "cell_type": "code",
      "execution_count": null,
      "metadata": {},
      "outputs": [],
      "source": [
        "## Remove any settings previously applied\n",
        "settings_to_remove = ['release_type', 'particle_density', 'particle_diameter', 'windage_coefficient',\n",
        "                      'continent', 'subregion', 'region', 'subregion', 'country']\n",
        "\n",
        "for setting in settings_to_remove:\n",
        "    if setting in particle_settings.keys():\n",
        "        del(particle_settings[setting])\n",
        "\n",
        "\n",
        "## Update your new settings here\n",
        "new_settings = {'release_type': 'coastal',\n",
        "                #'continent': '',\n",
        "                #'region': '',\n",
        "                #'subregion': 'Southern Europe',\n",
        "                'country': 'Greece',\n",
        "                'windage_coefficient' : 0.01, # Percentage of wind to apply to particles\n",
        "                'particle_diameter' : 0.001, # Plastic particle diameter (m)\n",
        "                'particle_density' : 1020. # Plastic particle density (kg/m^3)\n",
        "}\n",
        "particle_settings.update(new_settings)\n",
        "\n",
        "## Create the particleset\n",
        "pset = create_particleset_from_file(fieldset, particle_settings)\n"
      ]
    },
    {
      "cell_type": "code",
      "execution_count": null,
      "metadata": {},
      "outputs": [],
      "source": [
        "## Plot the particles initial positions\n",
        "fig = plt.figure()\n",
        "ax = plt.axes(projection=ccrs.PlateCarree())\n",
        "ax.scatter(pset.lon, pset.lat, s=2, transform=ccrs.PlateCarree())\n",
        "ax.coastlines()\n",
        "ax.gridlines(draw_labels=True)\n",
        "plt.title(\"Initial particle positions\")\n",
        "plt.show()"
      ]
    },
    {
      "cell_type": "code",
      "execution_count": null,
      "metadata": {},
      "outputs": [],
      "source": [
        "## Define the runtime, the timestepping, and the output frequency of the simulation\n",
        "runtime = particle_settings['runtime']\n",
        "dt_timestep = particle_settings['dt_timestep']\n",
        "dt_write = particle_settings['dt_write']\n",
        "\n",
        "## Create the particle file where output will be stored\n",
        "pfile = ParticleFile('advanced_release.zarr', pset, outputdt=dt_write)\n",
        "\n",
        "## Execute the simulation\n",
        "pset.execute(kernels, runtime=runtime, dt=dt_timestep, output_file=pfile)"
      ]
    },
    {
      "cell_type": "code",
      "execution_count": null,
      "metadata": {},
      "outputs": [],
      "source": [
        "## Plot the particles final positions\n",
        "fig = plt.figure()\n",
        "ax = plt.axes(projection=ccrs.PlateCarree())\n",
        "ax.scatter(pset.lon, pset.lat, s=2, transform=ccrs.PlateCarree())\n",
        "ax.coastlines()\n",
        "ax.gridlines(draw_labels=True)\n",
        "plt.title(\"Final particle positions\")\n",
        "plt.show()"
      ]
    },
    {
      "cell_type": "markdown",
      "metadata": {},
      "source": [
        "# Particle Trajectory Analysis\n",
        "You can now analyse your particle sets. Rather than re-invent the wheel, we point you to the [Working with Parcels output tutorial](https://docs.oceanparcels.org/en/latest/examples/tutorial_output.html), which explains how to read and analyse Parcels particle trajectory datasets."
      ]
    },
    {
      "cell_type": "markdown",
      "metadata": {},
      "source": []
    }
  ],
  "metadata": {
    "colab": {
      "provenance": []
    },
    "kernelspec": {
      "display_name": "Python 3",
      "name": "python3"
    },
    "language_info": {
      "name": "python",
      "version": "3.11.6"
    }
  },
  "nbformat": 4,
  "nbformat_minor": 0
}
