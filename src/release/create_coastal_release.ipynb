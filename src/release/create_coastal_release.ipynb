{
 "cells": [
  {
   "cell_type": "code",
   "execution_count": 1,
   "metadata": {},
   "outputs": [],
   "source": [
    "#https://github.com/OceanParcels/GlobalMassBudget/blob/main/create_population_input.py\n",
    "\n",
    "import xarray as xr\n",
    "import matplotlib.pyplot as plt\n",
    "import numpy as np\n",
    "import cartopy.crs as ccrs\n",
    "import timeit\n",
    "import matplotlib.colors\n",
    "import csv\n",
    "import shapefile\n",
    "import cartopy"
   ]
  },
  {
   "cell_type": "code",
   "execution_count": 2,
   "metadata": {},
   "outputs": [],
   "source": [
    "import requests\n",
    "import pandas as pd\n",
    "import urllib.request as urlr"
   ]
  },
  {
   "cell_type": "markdown",
   "metadata": {},
   "source": [
    "## Jambeck data download"
   ]
  },
  {
   "cell_type": "code",
   "execution_count": 3,
   "metadata": {},
   "outputs": [],
   "source": [
    "url = \"https://www.science.org/doi/suppl/10.1126/science.1260352/suppl_file/1260352_supportingfile_suppl._excel_seq1_v1.xlsx\"\n",
    "url_backup = \"http://jambeck.engr.uga.edu/wp-content/uploads/2015/01/JambeckSData.xlsx\" ## This seems like the one that works, but I don't like the idea of hardcoding to this. does Science have an API we can use?"
   ]
  },
  {
   "cell_type": "code",
   "execution_count": 4,
   "metadata": {},
   "outputs": [
    {
     "data": {
      "text/plain": [
       "{'Date': 'Fri, 12 Jan 2024 01:42:07 GMT', 'Server': 'Apache', 'Last-Modified': 'Fri, 30 Jan 2015 16:55:13 GMT', 'Accept-Ranges': 'bytes', 'Content-Length': '46718', 'Keep-Alive': 'timeout=5, max=100', 'Connection': 'Keep-Alive', 'Content-Type': 'application/vnd.openxmlformats-officedocument.spreadsheetml.sheet'}"
      ]
     },
     "execution_count": 4,
     "metadata": {},
     "output_type": "execute_result"
    }
   ],
   "source": [
    "response = requests.get(url_backup, stream=True)\n",
    "response.headers"
   ]
  },
  {
   "cell_type": "code",
   "execution_count": 6,
   "metadata": {},
   "outputs": [
    {
     "data": {
      "text/plain": [
       "True"
      ]
     },
     "execution_count": 6,
     "metadata": {},
     "output_type": "execute_result"
    }
   ],
   "source": [
    "response.ok"
   ]
  },
  {
   "cell_type": "code",
   "execution_count": 9,
   "metadata": {},
   "outputs": [
    {
     "name": "stdout",
     "output_type": "stream",
     "text": [
      "Using backup\n"
     ]
    },
    {
     "data": {
      "text/plain": [
       "['Jambeck et al. (2014)']"
      ]
     },
     "execution_count": 9,
     "metadata": {},
     "output_type": "execute_result"
    }
   ],
   "source": [
    "try:\n",
    "    socket = urlr.urlopen(url)\n",
    "except:\n",
    "    print('Using backup')\n",
    "    socket = urlr.urlopen(url_backup)\n",
    "xd = pd.ExcelFile(socket.read())\n",
    "xd.sheet_names"
   ]
  },
  {
   "cell_type": "code",
   "execution_count": 10,
   "metadata": {},
   "outputs": [
    {
     "name": "stderr",
     "output_type": "stream",
     "text": [
      "/Users/denes001/anaconda3/envs/py3_parcels/lib/python3.11/site-packages/openpyxl/worksheet/_read_only.py:81: UserWarning: Unknown extension is not supported and will be removed\n",
      "  for idx, row in parser.parse():\n"
     ]
    }
   ],
   "source": [
    "df = pd.read_excel(xd,'Jambeck et al. (2014)')"
   ]
  },
  {
   "cell_type": "code",
   "execution_count": 11,
   "metadata": {},
   "outputs": [
    {
     "data": {
      "text/html": [
       "<div>\n",
       "<style scoped>\n",
       "    .dataframe tbody tr th:only-of-type {\n",
       "        vertical-align: middle;\n",
       "    }\n",
       "\n",
       "    .dataframe tbody tr th {\n",
       "        vertical-align: top;\n",
       "    }\n",
       "\n",
       "    .dataframe thead th {\n",
       "        text-align: right;\n",
       "    }\n",
       "</style>\n",
       "<table border=\"1\" class=\"dataframe\">\n",
       "  <thead>\n",
       "    <tr style=\"text-align: right;\">\n",
       "      <th></th>\n",
       "      <th>Country</th>\n",
       "      <th>Economic status1</th>\n",
       "      <th>Coastal population2</th>\n",
       "      <th>Waste generation rate [kg/person/day]3</th>\n",
       "      <th>% Plastic in waste stream4</th>\n",
       "      <th>% Inadequately managed waste5</th>\n",
       "      <th>% Littered waste6</th>\n",
       "      <th>Waste generation [kg/day]7</th>\n",
       "      <th>Plastic waste generation [kg/day]7</th>\n",
       "      <th>Inadequately managed plastic waste [kg/day]7</th>\n",
       "      <th>Plastic waste littered\\n [kg/day]7</th>\n",
       "      <th>Mismanaged plastic waste [kg/person/day]7</th>\n",
       "      <th>Mismanaged plastic waste in 2010\\n [tonnes]7</th>\n",
       "      <th>Mismanaged plastic waste in 2025\\n [tonnes]7</th>\n",
       "    </tr>\n",
       "  </thead>\n",
       "  <tbody>\n",
       "    <tr>\n",
       "      <th>0</th>\n",
       "      <td>Albania</td>\n",
       "      <td>LMI</td>\n",
       "      <td>2530533.0</td>\n",
       "      <td>0.77</td>\n",
       "      <td>8.95</td>\n",
       "      <td>44.667603</td>\n",
       "      <td>2.0</td>\n",
       "      <td>1948510.41</td>\n",
       "      <td>1.743917e+05</td>\n",
       "      <td>7.789658e+04</td>\n",
       "      <td>3487.833634</td>\n",
       "      <td>0.032161</td>\n",
       "      <td>29705.312580</td>\n",
       "      <td>6.305075e+04</td>\n",
       "    </tr>\n",
       "    <tr>\n",
       "      <th>1</th>\n",
       "      <td>Algeria8</td>\n",
       "      <td>UMI</td>\n",
       "      <td>16556580.0</td>\n",
       "      <td>1.20</td>\n",
       "      <td>11.95</td>\n",
       "      <td>58.069448</td>\n",
       "      <td>2.0</td>\n",
       "      <td>19867896.00</td>\n",
       "      <td>2.374214e+06</td>\n",
       "      <td>1.378693e+06</td>\n",
       "      <td>47484.271440</td>\n",
       "      <td>0.08614</td>\n",
       "      <td>520554.599404</td>\n",
       "      <td>1.017444e+06</td>\n",
       "    </tr>\n",
       "    <tr>\n",
       "      <th>2</th>\n",
       "      <td>Angola</td>\n",
       "      <td>LMI</td>\n",
       "      <td>3790041.0</td>\n",
       "      <td>0.48</td>\n",
       "      <td>12.95</td>\n",
       "      <td>70.715014</td>\n",
       "      <td>2.0</td>\n",
       "      <td>1819219.68</td>\n",
       "      <td>2.355889e+05</td>\n",
       "      <td>1.665968e+05</td>\n",
       "      <td>4711.778971</td>\n",
       "      <td>0.0452</td>\n",
       "      <td>62527.616065</td>\n",
       "      <td>1.367695e+05</td>\n",
       "    </tr>\n",
       "    <tr>\n",
       "      <th>3</th>\n",
       "      <td>Anguilla</td>\n",
       "      <td>HIC</td>\n",
       "      <td>14561.0</td>\n",
       "      <td>2.10</td>\n",
       "      <td>11.95</td>\n",
       "      <td>1.869023</td>\n",
       "      <td>2.0</td>\n",
       "      <td>30578.10</td>\n",
       "      <td>3.654083e+03</td>\n",
       "      <td>6.829564e+01</td>\n",
       "      <td>73.081659</td>\n",
       "      <td>0.009709</td>\n",
       "      <td>51.602714</td>\n",
       "      <td>7.294925e+01</td>\n",
       "    </tr>\n",
       "    <tr>\n",
       "      <th>4</th>\n",
       "      <td>Antigua &amp; Barbuda</td>\n",
       "      <td>HIC</td>\n",
       "      <td>66843.0</td>\n",
       "      <td>5.50</td>\n",
       "      <td>11.95</td>\n",
       "      <td>5.816355</td>\n",
       "      <td>2.0</td>\n",
       "      <td>367636.50</td>\n",
       "      <td>4.393256e+04</td>\n",
       "      <td>2.555274e+03</td>\n",
       "      <td>878.651235</td>\n",
       "      <td>0.051373</td>\n",
       "      <td>1253.382652</td>\n",
       "      <td>1.385281e+03</td>\n",
       "    </tr>\n",
       "    <tr>\n",
       "      <th>...</th>\n",
       "      <td>...</td>\n",
       "      <td>...</td>\n",
       "      <td>...</td>\n",
       "      <td>...</td>\n",
       "      <td>...</td>\n",
       "      <td>...</td>\n",
       "      <td>...</td>\n",
       "      <td>...</td>\n",
       "      <td>...</td>\n",
       "      <td>...</td>\n",
       "      <td>...</td>\n",
       "      <td>...</td>\n",
       "      <td>...</td>\n",
       "      <td>...</td>\n",
       "    </tr>\n",
       "    <tr>\n",
       "      <th>197</th>\n",
       "      <td>NaN</td>\n",
       "      <td>4 - Bold data were taken directly from World B...</td>\n",
       "      <td>NaN</td>\n",
       "      <td>NaN</td>\n",
       "      <td>NaN</td>\n",
       "      <td>NaN</td>\n",
       "      <td>NaN</td>\n",
       "      <td>NaN</td>\n",
       "      <td>NaN</td>\n",
       "      <td>NaN</td>\n",
       "      <td>NaN</td>\n",
       "      <td>NaN</td>\n",
       "      <td>NaN</td>\n",
       "      <td>NaN</td>\n",
       "    </tr>\n",
       "    <tr>\n",
       "      <th>198</th>\n",
       "      <td>NaN</td>\n",
       "      <td>5 - Using a model developed for this study (se...</td>\n",
       "      <td>NaN</td>\n",
       "      <td>NaN</td>\n",
       "      <td>NaN</td>\n",
       "      <td>NaN</td>\n",
       "      <td>NaN</td>\n",
       "      <td>NaN</td>\n",
       "      <td>NaN</td>\n",
       "      <td>NaN</td>\n",
       "      <td>NaN</td>\n",
       "      <td>NaN</td>\n",
       "      <td>NaN</td>\n",
       "      <td>NaN</td>\n",
       "    </tr>\n",
       "    <tr>\n",
       "      <th>199</th>\n",
       "      <td>NaN</td>\n",
       "      <td>6 - From U.S. national litter study22</td>\n",
       "      <td>NaN</td>\n",
       "      <td>NaN</td>\n",
       "      <td>NaN</td>\n",
       "      <td>NaN</td>\n",
       "      <td>NaN</td>\n",
       "      <td>NaN</td>\n",
       "      <td>NaN</td>\n",
       "      <td>NaN</td>\n",
       "      <td>NaN</td>\n",
       "      <td>NaN</td>\n",
       "      <td>NaN</td>\n",
       "      <td>NaN</td>\n",
       "    </tr>\n",
       "    <tr>\n",
       "      <th>200</th>\n",
       "      <td>NaN</td>\n",
       "      <td>7 - Calculated values</td>\n",
       "      <td>NaN</td>\n",
       "      <td>NaN</td>\n",
       "      <td>NaN</td>\n",
       "      <td>NaN</td>\n",
       "      <td>NaN</td>\n",
       "      <td>NaN</td>\n",
       "      <td>NaN</td>\n",
       "      <td>NaN</td>\n",
       "      <td>NaN</td>\n",
       "      <td>NaN</td>\n",
       "      <td>NaN</td>\n",
       "      <td>NaN</td>\n",
       "    </tr>\n",
       "    <tr>\n",
       "      <th>201</th>\n",
       "      <td>NaN</td>\n",
       "      <td>8 - Economic status changed from 2005 to 20106...</td>\n",
       "      <td>NaN</td>\n",
       "      <td>NaN</td>\n",
       "      <td>NaN</td>\n",
       "      <td>NaN</td>\n",
       "      <td>NaN</td>\n",
       "      <td>NaN</td>\n",
       "      <td>NaN</td>\n",
       "      <td>NaN</td>\n",
       "      <td>NaN</td>\n",
       "      <td>NaN</td>\n",
       "      <td>NaN</td>\n",
       "      <td>NaN</td>\n",
       "    </tr>\n",
       "  </tbody>\n",
       "</table>\n",
       "<p>202 rows × 14 columns</p>\n",
       "</div>"
      ],
      "text/plain": [
       "               Country                                   Economic status1  \\\n",
       "0              Albania                                                LMI   \n",
       "1             Algeria8                                                UMI   \n",
       "2               Angola                                                LMI   \n",
       "3             Anguilla                                                HIC   \n",
       "4    Antigua & Barbuda                                                HIC   \n",
       "..                 ...                                                ...   \n",
       "197                NaN  4 - Bold data were taken directly from World B...   \n",
       "198                NaN  5 - Using a model developed for this study (se...   \n",
       "199                NaN              6 - From U.S. national litter study22   \n",
       "200                NaN                              7 - Calculated values   \n",
       "201                NaN  8 - Economic status changed from 2005 to 20106...   \n",
       "\n",
       "     Coastal population2  Waste generation rate [kg/person/day]3  \\\n",
       "0              2530533.0                                    0.77   \n",
       "1             16556580.0                                    1.20   \n",
       "2              3790041.0                                    0.48   \n",
       "3                14561.0                                    2.10   \n",
       "4                66843.0                                    5.50   \n",
       "..                   ...                                     ...   \n",
       "197                  NaN                                     NaN   \n",
       "198                  NaN                                     NaN   \n",
       "199                  NaN                                     NaN   \n",
       "200                  NaN                                     NaN   \n",
       "201                  NaN                                     NaN   \n",
       "\n",
       "     % Plastic in waste stream4  % Inadequately managed waste5  \\\n",
       "0                          8.95                      44.667603   \n",
       "1                         11.95                      58.069448   \n",
       "2                         12.95                      70.715014   \n",
       "3                         11.95                       1.869023   \n",
       "4                         11.95                       5.816355   \n",
       "..                          ...                            ...   \n",
       "197                         NaN                            NaN   \n",
       "198                         NaN                            NaN   \n",
       "199                         NaN                            NaN   \n",
       "200                         NaN                            NaN   \n",
       "201                         NaN                            NaN   \n",
       "\n",
       "     % Littered waste6  Waste generation [kg/day]7  \\\n",
       "0                  2.0                  1948510.41   \n",
       "1                  2.0                 19867896.00   \n",
       "2                  2.0                  1819219.68   \n",
       "3                  2.0                    30578.10   \n",
       "4                  2.0                   367636.50   \n",
       "..                 ...                         ...   \n",
       "197                NaN                         NaN   \n",
       "198                NaN                         NaN   \n",
       "199                NaN                         NaN   \n",
       "200                NaN                         NaN   \n",
       "201                NaN                         NaN   \n",
       "\n",
       "     Plastic waste generation [kg/day]7  \\\n",
       "0                          1.743917e+05   \n",
       "1                          2.374214e+06   \n",
       "2                          2.355889e+05   \n",
       "3                          3.654083e+03   \n",
       "4                          4.393256e+04   \n",
       "..                                  ...   \n",
       "197                                 NaN   \n",
       "198                                 NaN   \n",
       "199                                 NaN   \n",
       "200                                 NaN   \n",
       "201                                 NaN   \n",
       "\n",
       "     Inadequately managed plastic waste [kg/day]7  \\\n",
       "0                                    7.789658e+04   \n",
       "1                                    1.378693e+06   \n",
       "2                                    1.665968e+05   \n",
       "3                                    6.829564e+01   \n",
       "4                                    2.555274e+03   \n",
       "..                                            ...   \n",
       "197                                           NaN   \n",
       "198                                           NaN   \n",
       "199                                           NaN   \n",
       "200                                           NaN   \n",
       "201                                           NaN   \n",
       "\n",
       "     Plastic waste littered\\n [kg/day]7  \\\n",
       "0                           3487.833634   \n",
       "1                          47484.271440   \n",
       "2                           4711.778971   \n",
       "3                             73.081659   \n",
       "4                            878.651235   \n",
       "..                                  ...   \n",
       "197                                 NaN   \n",
       "198                                 NaN   \n",
       "199                                 NaN   \n",
       "200                                 NaN   \n",
       "201                                 NaN   \n",
       "\n",
       "    Mismanaged plastic waste [kg/person/day]7  \\\n",
       "0                                    0.032161   \n",
       "1                                     0.08614   \n",
       "2                                      0.0452   \n",
       "3                                    0.009709   \n",
       "4                                    0.051373   \n",
       "..                                        ...   \n",
       "197                                       NaN   \n",
       "198                                       NaN   \n",
       "199                                       NaN   \n",
       "200                                       NaN   \n",
       "201                                       NaN   \n",
       "\n",
       "     Mismanaged plastic waste in 2010\\n [tonnes]7  \\\n",
       "0                                    29705.312580   \n",
       "1                                   520554.599404   \n",
       "2                                    62527.616065   \n",
       "3                                       51.602714   \n",
       "4                                     1253.382652   \n",
       "..                                            ...   \n",
       "197                                           NaN   \n",
       "198                                           NaN   \n",
       "199                                           NaN   \n",
       "200                                           NaN   \n",
       "201                                           NaN   \n",
       "\n",
       "     Mismanaged plastic waste in 2025\\n [tonnes]7  \n",
       "0                                    6.305075e+04  \n",
       "1                                    1.017444e+06  \n",
       "2                                    1.367695e+05  \n",
       "3                                    7.294925e+01  \n",
       "4                                    1.385281e+03  \n",
       "..                                            ...  \n",
       "197                                           NaN  \n",
       "198                                           NaN  \n",
       "199                                           NaN  \n",
       "200                                           NaN  \n",
       "201                                           NaN  \n",
       "\n",
       "[202 rows x 14 columns]"
      ]
     },
     "execution_count": 11,
     "metadata": {},
     "output_type": "execute_result"
    }
   ],
   "source": [
    "df"
   ]
  },
  {
   "cell_type": "code",
   "execution_count": 12,
   "metadata": {},
   "outputs": [
    {
     "data": {
      "text/html": [
       "<div>\n",
       "<style scoped>\n",
       "    .dataframe tbody tr th:only-of-type {\n",
       "        vertical-align: middle;\n",
       "    }\n",
       "\n",
       "    .dataframe tbody tr th {\n",
       "        vertical-align: top;\n",
       "    }\n",
       "\n",
       "    .dataframe thead th {\n",
       "        text-align: right;\n",
       "    }\n",
       "</style>\n",
       "<table border=\"1\" class=\"dataframe\">\n",
       "  <thead>\n",
       "    <tr style=\"text-align: right;\">\n",
       "      <th></th>\n",
       "      <th>Country</th>\n",
       "      <th>Mismanaged plastic waste [kg/person/day]7</th>\n",
       "    </tr>\n",
       "  </thead>\n",
       "  <tbody>\n",
       "    <tr>\n",
       "      <th>0</th>\n",
       "      <td>Albania</td>\n",
       "      <td>0.032161</td>\n",
       "    </tr>\n",
       "    <tr>\n",
       "      <th>1</th>\n",
       "      <td>Algeria8</td>\n",
       "      <td>0.08614</td>\n",
       "    </tr>\n",
       "    <tr>\n",
       "      <th>2</th>\n",
       "      <td>Angola</td>\n",
       "      <td>0.0452</td>\n",
       "    </tr>\n",
       "    <tr>\n",
       "      <th>3</th>\n",
       "      <td>Anguilla</td>\n",
       "      <td>0.009709</td>\n",
       "    </tr>\n",
       "    <tr>\n",
       "      <th>4</th>\n",
       "      <td>Antigua &amp; Barbuda</td>\n",
       "      <td>0.051373</td>\n",
       "    </tr>\n",
       "    <tr>\n",
       "      <th>...</th>\n",
       "      <td>...</td>\n",
       "      <td>...</td>\n",
       "    </tr>\n",
       "    <tr>\n",
       "      <th>197</th>\n",
       "      <td>NaN</td>\n",
       "      <td>NaN</td>\n",
       "    </tr>\n",
       "    <tr>\n",
       "      <th>198</th>\n",
       "      <td>NaN</td>\n",
       "      <td>NaN</td>\n",
       "    </tr>\n",
       "    <tr>\n",
       "      <th>199</th>\n",
       "      <td>NaN</td>\n",
       "      <td>NaN</td>\n",
       "    </tr>\n",
       "    <tr>\n",
       "      <th>200</th>\n",
       "      <td>NaN</td>\n",
       "      <td>NaN</td>\n",
       "    </tr>\n",
       "    <tr>\n",
       "      <th>201</th>\n",
       "      <td>NaN</td>\n",
       "      <td>NaN</td>\n",
       "    </tr>\n",
       "  </tbody>\n",
       "</table>\n",
       "<p>202 rows × 2 columns</p>\n",
       "</div>"
      ],
      "text/plain": [
       "               Country Mismanaged plastic waste [kg/person/day]7\n",
       "0              Albania                                  0.032161\n",
       "1             Algeria8                                   0.08614\n",
       "2               Angola                                    0.0452\n",
       "3             Anguilla                                  0.009709\n",
       "4    Antigua & Barbuda                                  0.051373\n",
       "..                 ...                                       ...\n",
       "197                NaN                                       NaN\n",
       "198                NaN                                       NaN\n",
       "199                NaN                                       NaN\n",
       "200                NaN                                       NaN\n",
       "201                NaN                                       NaN\n",
       "\n",
       "[202 rows x 2 columns]"
      ]
     },
     "execution_count": 12,
     "metadata": {},
     "output_type": "execute_result"
    }
   ],
   "source": [
    "df[['Country','Mismanaged plastic waste [kg/person/day]7']]"
   ]
  },
  {
   "cell_type": "code",
   "execution_count": null,
   "metadata": {},
   "outputs": [],
   "source": []
  },
  {
   "cell_type": "code",
   "execution_count": null,
   "metadata": {},
   "outputs": [],
   "source": []
  },
  {
   "cell_type": "code",
   "execution_count": null,
   "metadata": {},
   "outputs": [],
   "source": []
  },
  {
   "cell_type": "markdown",
   "metadata": {},
   "source": [
    "## GPW data\n",
    "- if using WPP-adjusted: https://beta.sedac.ciesin.columbia.edu/data/set/gpw-v4-population-density-adjusted-to-2015-unwpp-country-totals-rev11/data-download\n",
    "- if using non-WPP-adjusted: https://beta.sedac.ciesin.columbia.edu/data/set/gpw-v4-population-density-rev11/data-download\n",
    "\n",
    "select 'All Years Combined' > 'NetCDF' > '2.5 Minute (approx. 5km)'"
   ]
  },
  {
   "cell_type": "code",
   "execution_count": null,
   "metadata": {},
   "outputs": [],
   "source": [
    "gpw = xr.open_dataset('../../data/release/GPWv4/gpw-v4-population-density-rev11_totpop_2pt5_min_nc/gpw_v4_population_density_rev11_2pt5_min.nc')"
   ]
  },
  {
   "cell_type": "code",
   "execution_count": null,
   "metadata": {},
   "outputs": [],
   "source": [
    "gpw"
   ]
  },
  {
   "cell_type": "code",
   "execution_count": null,
   "metadata": {},
   "outputs": [],
   "source": [
    "gpw['longitude']\n"
   ]
  },
  {
   "cell_type": "code",
   "execution_count": null,
   "metadata": {},
   "outputs": [],
   "source": [
    "gpw['latitude']"
   ]
  },
  {
   "cell_type": "code",
   "execution_count": null,
   "metadata": {},
   "outputs": [],
   "source": [
    "lons_data = gpw.variables['longitude'][:]\n",
    "lats_data = gpw.variables['latitude'][:]\n",
    "meshPop_x, meshPop_y = np.meshgrid(lons_data,lats_data)"
   ]
  },
  {
   "cell_type": "code",
   "execution_count": null,
   "metadata": {},
   "outputs": [],
   "source": [
    "densityPop = gpw.variables['Population Density, v4.11 (2000, 2005, 2010, 2015, 2020): 2.5 arc-minutes']"
   ]
  },
  {
   "cell_type": "code",
   "execution_count": null,
   "metadata": {},
   "outputs": [],
   "source": [
    "lats_data"
   ]
  },
  {
   "cell_type": "code",
   "execution_count": null,
   "metadata": {},
   "outputs": [],
   "source": []
  },
  {
   "cell_type": "code",
   "execution_count": null,
   "metadata": {},
   "outputs": [],
   "source": []
  },
  {
   "cell_type": "code",
   "execution_count": null,
   "metadata": {},
   "outputs": [],
   "source": [
    "import shapely\n",
    "import cartopy.io.shapereader as shpreader"
   ]
  },
  {
   "cell_type": "code",
   "execution_count": null,
   "metadata": {},
   "outputs": [],
   "source": [
    "shpfilename = shpreader.natural_earth(resolution='50m',\n",
    "                                      category='cultural',\n",
    "                                      name='admin_0_countries')"
   ]
  },
  {
   "cell_type": "code",
   "execution_count": null,
   "metadata": {},
   "outputs": [],
   "source": [
    "shpfilename"
   ]
  },
  {
   "cell_type": "code",
   "execution_count": null,
   "metadata": {},
   "outputs": [],
   "source": [
    "reader = shpreader.Reader(shpfilename)\n",
    "countries = reader.records()"
   ]
  },
  {
   "cell_type": "code",
   "execution_count": null,
   "metadata": {},
   "outputs": [],
   "source": [
    "all_country_names = list(df['Country'])\n",
    "\n",
    "all_country_names = [str(country_name).replace('&', 'and') for country_name in all_country_names]\n",
    "\n",
    "\n",
    "from functools import reduce\n",
    " \n",
    "def remove_digits(lst):\n",
    "    return [reduce(lambda x, y: x+y, filter(lambda x: not x.isdigit(), s), '') for s in lst]\n",
    "\n",
    "\n",
    "all_country_names = remove_digits(all_country_names) # annoyingly there are some footnotes attached to the country names\n",
    "while 'nan' in all_country_names:\n",
    "    all_country_names.remove('nan')\n",
    " "
   ]
  },
  {
   "cell_type": "code",
   "execution_count": null,
   "metadata": {},
   "outputs": [],
   "source": [
    "all_country_names"
   ]
  },
  {
   "cell_type": "code",
   "execution_count": null,
   "metadata": {},
   "outputs": [],
   "source": [
    "def list_contains_string(string_,list_):\n",
    "    result = False\n",
    "    for element in list_:\n",
    "        if string_ in element:\n",
    "            result = True\n",
    "    return result\n",
    "\n",
    "def list_contains_string_index(string1,string2,list_):\n",
    "    result = None\n",
    "    for i1,element in enumerate(list_):\n",
    "        if string1 in element or string2 in element:\n",
    "            result = i1\n",
    "    return result   "
   ]
  },
  {
   "cell_type": "code",
   "execution_count": null,
   "metadata": {},
   "outputs": [],
   "source": [
    "country_names = []\n",
    "country_names_2 = []"
   ]
  },
  {
   "cell_type": "code",
   "execution_count": null,
   "metadata": {},
   "outputs": [],
   "source": [
    "'Tuvalu' in all_country_names"
   ]
  },
  {
   "cell_type": "code",
   "execution_count": null,
   "metadata": {},
   "outputs": [],
   "source": [
    "for country in countries:\n",
    "\n",
    "    country_name = country.attributes['NAME_LONG']\n",
    "    country_name_2 = country.attributes['NAME']\n",
    "    \n",
    "    geom = country.geometry\n",
    "    if country_name_2 in all_country_names or country_name in all_country_names:\n",
    "       \n",
    "        country_names.append(country_name)\n",
    "        country_names_2.append(country_name_2)\n",
    "\n",
    "        mpw = np.nan\n",
    "        \n",
    "        i1 = list_contains_string_index(country_name,country_name_2,all_country_names)\n",
    "        country_mpw = df.loc[i1,'Country']\n",
    "        mpw = df.iloc[i1,6]\n",
    "    else:\n",
    "        print(country_name, country_name_2)"
   ]
  },
  {
   "cell_type": "code",
   "execution_count": null,
   "metadata": {},
   "outputs": [],
   "source": [
    "len(country_names), len(all_country_names), len(country_names_2)\n"
   ]
  },
  {
   "cell_type": "code",
   "execution_count": null,
   "metadata": {},
   "outputs": [],
   "source": [
    "np.sort(all_country_names)"
   ]
  },
  {
   "cell_type": "code",
   "execution_count": null,
   "metadata": {},
   "outputs": [],
   "source": [
    "np.setdiff1d(np.stack((country_names, country_names_2)), all_country_names)"
   ]
  },
  {
   "cell_type": "code",
   "execution_count": null,
   "metadata": {},
   "outputs": [],
   "source": [
    "np.setdiff1d(all_country_names, np.stack((country_names, country_names_2)))"
   ]
  },
  {
   "cell_type": "code",
   "execution_count": null,
   "metadata": {},
   "outputs": [],
   "source": []
  },
  {
   "cell_type": "code",
   "execution_count": null,
   "metadata": {},
   "outputs": [],
   "source": []
  }
 ],
 "metadata": {
  "kernelspec": {
   "display_name": "py3_parcels",
   "language": "python",
   "name": "python3"
  },
  "language_info": {
   "codemirror_mode": {
    "name": "ipython",
    "version": 3
   },
   "file_extension": ".py",
   "mimetype": "text/x-python",
   "name": "python",
   "nbconvert_exporter": "python",
   "pygments_lexer": "ipython3",
   "version": "3.11.4"
  }
 },
 "nbformat": 4,
 "nbformat_minor": 2
}
