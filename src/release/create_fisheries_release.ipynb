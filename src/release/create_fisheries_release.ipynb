{
 "cells": [
  {
   "cell_type": "code",
   "execution_count": null,
   "metadata": {},
   "outputs": [],
   "source": []
  },
  {
   "cell_type": "code",
   "execution_count": 1,
   "metadata": {},
   "outputs": [],
   "source": [
    "#https://github.com/OceanParcels/GlobalMassBudget/blob/main/create_river_input.py\n",
    "\n",
    "import xarray as xr\n",
    "import matplotlib.pyplot as plt\n",
    "import numpy as np\n",
    "import cartopy.crs as ccrs\n",
    "import timeit\n",
    "import matplotlib.colors as colors\n",
    "import csv\n",
    "import shapefile\n",
    "import cartopy\n",
    "import glob\n",
    "from datetime import datetime\n",
    "import os"
   ]
  },
  {
   "cell_type": "code",
   "execution_count": 2,
   "metadata": {},
   "outputs": [],
   "source": [
    "import geopandas as gpd\n",
    "import pandas as pd"
   ]
  },
  {
   "cell_type": "code",
   "execution_count": null,
   "metadata": {},
   "outputs": [],
   "source": []
  },
  {
   "cell_type": "code",
   "execution_count": 3,
   "metadata": {},
   "outputs": [],
   "source": [
    "mask_land = xr.open_dataset('../../data/output_data/masks/mask_land_NEMO0083.nc')['mask_land']\n",
    "mask_land_nan = mask_land.copy().values.astype(float)\n",
    "mask_land_nan[~mask_land] = np.nan\n",
    "mask_lons,mask_lats = mask_land['lon'].values, mask_land['lat'].values\n",
    "#fieldMesh_x,fieldMesh_y = np.meshgrid(lons.ravel(),lats.ravel())"
   ]
  },
  {
   "cell_type": "code",
   "execution_count": null,
   "metadata": {},
   "outputs": [],
   "source": []
  },
  {
   "cell_type": "markdown",
   "metadata": {},
   "source": []
  },
  {
   "cell_type": "code",
   "execution_count": null,
   "metadata": {},
   "outputs": [],
   "source": []
  },
  {
   "cell_type": "code",
   "execution_count": 4,
   "metadata": {},
   "outputs": [],
   "source": [
    "files_fisheries = sorted(glob.glob('../../data/release/GlobalFishingWatch/fleet*/*') )"
   ]
  },
  {
   "cell_type": "code",
   "execution_count": 5,
   "metadata": {},
   "outputs": [],
   "source": [
    "# date_array = pd.date_range(datetime(2020,1,1),datetime(2021,1,1),freq='MS')    \n",
    "# delta_date_array = (( np.array(date_array) - np.datetime64(datetime(1970,1,1)) ) ).astype('timedelta64[s]').astype(int)\n"
   ]
  },
  {
   "cell_type": "code",
   "execution_count": null,
   "metadata": {},
   "outputs": [],
   "source": [
    "files_fisheries[0][-12:-3]"
   ]
  },
  {
   "cell_type": "code",
   "execution_count": 6,
   "metadata": {},
   "outputs": [
    {
     "data": {
      "text/plain": [
       "\"\\n## Fisheries data is provided on a 0.01x0.01 grid with extent [-180,180]x[-90,90]\\n# e.g. # print(np.unique(sorted(data_fisheries['cell_ll_lat'].values)))\\n# and  # print(np.unique(sorted(data_fisheries['cell_ll_lon'].values)))\\n# We will create a grid to bin these on\\ndlon = 0.01\\ndlat = 0.01\\nlons = np.arange(-180,180,step=dlon)\\nlats = np.arange(-90,90,step=dlat)\\nfieldMesh_x,fieldMesh_y = np.meshgrid(lons,lats)\\n\\n\\nlons_edge = lons - .5*dlon\\nlats_edge = lats - .5*dlat\\nlons_edge = np.append(lons_edge,lons_edge[-1]+dlon)\\nlats_edge = np.append(lats_edge,lats_edge[-1]+dlat)\\n#mesh_plot_x,mesh_plot_y = np.meshgrid(lons_edge,lats_edge)\\n\\n\\ndlon_f,dlat_f = 0.01,0.01\\n\\n## I think this is an inefficient way of doing it\\n# input_fisheries = np.zeros([len(date_array)-1,fieldMesh_x.shape[0],fieldMesh_y.shape[1]])\\n# for file_ in files_fisheries:\\n    \\n#     date = datetime.fromisoformat(os.path.basename(file_).split('.')[0])\\n#     if date.day == 1:\\n#         print(date)\\n#     delta_date = ((np.datetime64(date) - np.datetime64(datetime(1970,1,1))) ).astype('timedelta64[s]').astype(int)\\n    \\n#     data_fisheries = pd.read_csv(file_)\\n\\n#     data_fishing_hours = data_fisheries[data_fisheries['fishing_hours'] > 0]\\n\\n#     i_lat = np.digitize(data_fishing_hours['cell_ll_lat']+.5*dlat_f, lats_edge)-1\\n#     i_lon = (np.digitize(data_fishing_hours['cell_ll_lon']+.5*dlon_f, lons_edge)-1) % len(lons)\\n#     i_time = (np.digitize(delta_date,delta_date_array)-1) * np.ones(len(i_lat),dtype=int)\\n    \\n#     input_fisheries[i_time,i_lat,i_lon] += data_fishing_hours['fishing_hours'].values\\n\\n\""
      ]
     },
     "execution_count": 6,
     "metadata": {},
     "output_type": "execute_result"
    }
   ],
   "source": []
  },
  {
   "cell_type": "code",
   "execution_count": 7,
   "metadata": {},
   "outputs": [],
   "source": [
    "# Instead, let's store the lat/lon, date, and summed hours\n",
    "data_fisheries = []\n",
    "for file_ in files_fisheries:\n",
    "    data_fisheries_day = pd.read_csv(file_)\n",
    "    data_fisheries_day = data_fisheries_day[data_fisheries_day['fishing_hours'] > 0]\n",
    "    data_fisheries.append(data_fisheries_day)\n",
    "\n",
    "data_fisheries = pd.concat(data_fisheries, axis=0, ignore_index=True)"
   ]
  },
  {
   "cell_type": "code",
   "execution_count": 9,
   "metadata": {},
   "outputs": [
    {
     "data": {
      "text/html": [
       "<div>\n",
       "<style scoped>\n",
       "    .dataframe tbody tr th:only-of-type {\n",
       "        vertical-align: middle;\n",
       "    }\n",
       "\n",
       "    .dataframe tbody tr th {\n",
       "        vertical-align: top;\n",
       "    }\n",
       "\n",
       "    .dataframe thead th {\n",
       "        text-align: right;\n",
       "    }\n",
       "</style>\n",
       "<table border=\"1\" class=\"dataframe\">\n",
       "  <thead>\n",
       "    <tr style=\"text-align: right;\">\n",
       "      <th></th>\n",
       "      <th>date</th>\n",
       "      <th>cell_ll_lat</th>\n",
       "      <th>cell_ll_lon</th>\n",
       "      <th>flag</th>\n",
       "      <th>geartype</th>\n",
       "      <th>hours</th>\n",
       "      <th>fishing_hours</th>\n",
       "      <th>mmsi_present</th>\n",
       "    </tr>\n",
       "  </thead>\n",
       "  <tbody>\n",
       "    <tr>\n",
       "      <th>0</th>\n",
       "      <td>2020-01-01</td>\n",
       "      <td>30.00</td>\n",
       "      <td>-75.50</td>\n",
       "      <td>USA</td>\n",
       "      <td>fishing</td>\n",
       "      <td>0.0702</td>\n",
       "      <td>0.0702</td>\n",
       "      <td>1</td>\n",
       "    </tr>\n",
       "    <tr>\n",
       "      <th>1</th>\n",
       "      <td>2020-01-01</td>\n",
       "      <td>30.00</td>\n",
       "      <td>-75.41</td>\n",
       "      <td>USA</td>\n",
       "      <td>fishing</td>\n",
       "      <td>0.0636</td>\n",
       "      <td>0.0636</td>\n",
       "      <td>1</td>\n",
       "    </tr>\n",
       "    <tr>\n",
       "      <th>2</th>\n",
       "      <td>2020-01-01</td>\n",
       "      <td>-34.00</td>\n",
       "      <td>17.57</td>\n",
       "      <td>ZAF</td>\n",
       "      <td>fishing</td>\n",
       "      <td>0.1847</td>\n",
       "      <td>0.1847</td>\n",
       "      <td>1</td>\n",
       "    </tr>\n",
       "    <tr>\n",
       "      <th>3</th>\n",
       "      <td>2020-01-01</td>\n",
       "      <td>-34.00</td>\n",
       "      <td>17.58</td>\n",
       "      <td>ZAF</td>\n",
       "      <td>fishing</td>\n",
       "      <td>0.1677</td>\n",
       "      <td>0.1677</td>\n",
       "      <td>1</td>\n",
       "    </tr>\n",
       "    <tr>\n",
       "      <th>4</th>\n",
       "      <td>2020-01-01</td>\n",
       "      <td>-36.00</td>\n",
       "      <td>20.29</td>\n",
       "      <td>ZAF</td>\n",
       "      <td>fishing</td>\n",
       "      <td>0.2672</td>\n",
       "      <td>0.2336</td>\n",
       "      <td>1</td>\n",
       "    </tr>\n",
       "    <tr>\n",
       "      <th>...</th>\n",
       "      <td>...</td>\n",
       "      <td>...</td>\n",
       "      <td>...</td>\n",
       "      <td>...</td>\n",
       "      <td>...</td>\n",
       "      <td>...</td>\n",
       "      <td>...</td>\n",
       "      <td>...</td>\n",
       "    </tr>\n",
       "    <tr>\n",
       "      <th>91732748</th>\n",
       "      <td>2020-12-31</td>\n",
       "      <td>-33.17</td>\n",
       "      <td>17.08</td>\n",
       "      <td>ZAF</td>\n",
       "      <td>fishing</td>\n",
       "      <td>0.1683</td>\n",
       "      <td>0.1683</td>\n",
       "      <td>1</td>\n",
       "    </tr>\n",
       "    <tr>\n",
       "      <th>91732749</th>\n",
       "      <td>2020-12-31</td>\n",
       "      <td>-33.17</td>\n",
       "      <td>17.14</td>\n",
       "      <td>ZAF</td>\n",
       "      <td>fishing</td>\n",
       "      <td>0.2980</td>\n",
       "      <td>0.2980</td>\n",
       "      <td>2</td>\n",
       "    </tr>\n",
       "    <tr>\n",
       "      <th>91732750</th>\n",
       "      <td>2020-12-31</td>\n",
       "      <td>-33.17</td>\n",
       "      <td>17.15</td>\n",
       "      <td>ZAF</td>\n",
       "      <td>fishing</td>\n",
       "      <td>0.2327</td>\n",
       "      <td>0.2327</td>\n",
       "      <td>2</td>\n",
       "    </tr>\n",
       "    <tr>\n",
       "      <th>91732751</th>\n",
       "      <td>2020-12-31</td>\n",
       "      <td>-33.17</td>\n",
       "      <td>17.01</td>\n",
       "      <td>ZAF</td>\n",
       "      <td>fishing</td>\n",
       "      <td>0.2222</td>\n",
       "      <td>0.2222</td>\n",
       "      <td>1</td>\n",
       "    </tr>\n",
       "    <tr>\n",
       "      <th>91732752</th>\n",
       "      <td>2020-12-31</td>\n",
       "      <td>-33.17</td>\n",
       "      <td>17.04</td>\n",
       "      <td>ZAF</td>\n",
       "      <td>drifting_longlines</td>\n",
       "      <td>0.1027</td>\n",
       "      <td>0.1027</td>\n",
       "      <td>1</td>\n",
       "    </tr>\n",
       "  </tbody>\n",
       "</table>\n",
       "<p>91732753 rows × 8 columns</p>\n",
       "</div>"
      ],
      "text/plain": [
       "                date  cell_ll_lat  cell_ll_lon flag            geartype  \\\n",
       "0         2020-01-01        30.00       -75.50  USA             fishing   \n",
       "1         2020-01-01        30.00       -75.41  USA             fishing   \n",
       "2         2020-01-01       -34.00        17.57  ZAF             fishing   \n",
       "3         2020-01-01       -34.00        17.58  ZAF             fishing   \n",
       "4         2020-01-01       -36.00        20.29  ZAF             fishing   \n",
       "...              ...          ...          ...  ...                 ...   \n",
       "91732748  2020-12-31       -33.17        17.08  ZAF             fishing   \n",
       "91732749  2020-12-31       -33.17        17.14  ZAF             fishing   \n",
       "91732750  2020-12-31       -33.17        17.15  ZAF             fishing   \n",
       "91732751  2020-12-31       -33.17        17.01  ZAF             fishing   \n",
       "91732752  2020-12-31       -33.17        17.04  ZAF  drifting_longlines   \n",
       "\n",
       "           hours  fishing_hours  mmsi_present  \n",
       "0         0.0702         0.0702             1  \n",
       "1         0.0636         0.0636             1  \n",
       "2         0.1847         0.1847             1  \n",
       "3         0.1677         0.1677             1  \n",
       "4         0.2672         0.2336             1  \n",
       "...          ...            ...           ...  \n",
       "91732748  0.1683         0.1683             1  \n",
       "91732749  0.2980         0.2980             2  \n",
       "91732750  0.2327         0.2327             2  \n",
       "91732751  0.2222         0.2222             1  \n",
       "91732752  0.1027         0.1027             1  \n",
       "\n",
       "[91732753 rows x 8 columns]"
      ]
     },
     "execution_count": 9,
     "metadata": {},
     "output_type": "execute_result"
    }
   ],
   "source": [
    "data_fisheries"
   ]
  },
  {
   "cell_type": "code",
   "execution_count": 24,
   "metadata": {},
   "outputs": [],
   "source": [
    "agg_data_fisheries = data_fisheries.groupby(['cell_ll_lat', 'cell_ll_lon', 'date'])['fishing_hours'].agg('sum').reset_index()"
   ]
  },
  {
   "cell_type": "code",
   "execution_count": 25,
   "metadata": {},
   "outputs": [],
   "source": [
    "agg_data_fisheries['date'] = pd.to_datetime(agg_data_fisheries['date'])"
   ]
  },
  {
   "cell_type": "code",
   "execution_count": 26,
   "metadata": {},
   "outputs": [],
   "source": [
    "agg_data_fisheries['month'] = agg_data_fisheries['date'].values.astype('datetime64[M]')\n"
   ]
  },
  {
   "cell_type": "code",
   "execution_count": 28,
   "metadata": {},
   "outputs": [],
   "source": [
    "\n",
    "agg_data_fisheries = agg_data_fisheries.groupby(['cell_ll_lat', 'cell_ll_lon', 'month'])['fishing_hours'].agg('sum').reset_index()"
   ]
  },
  {
   "cell_type": "code",
   "execution_count": 30,
   "metadata": {},
   "outputs": [],
   "source": [
    "agg_data_fisheries.to_csv('../../data/release/GlobalFishingWatch/fleet_monthly_aggregated.csv')\n",
    "\n",
    "## This chops it down from 70gb for one year to 2gb!"
   ]
  },
  {
   "cell_type": "code",
   "execution_count": null,
   "metadata": {},
   "outputs": [],
   "source": []
  },
  {
   "cell_type": "code",
   "execution_count": null,
   "metadata": {},
   "outputs": [],
   "source": [
    "# def to_netcdf(output_filename,data,data_name,lons,lats,time,explanation='',encode=False):\n",
    "#     '''\n",
    "#     All data is written to netcdf files to speed up computations\n",
    "#     '''\n",
    "#     dict_data = {}\n",
    "#     for name_, data_ in zip(data_name, data):\n",
    "#         dict_data[name_] = (( \"time\", \"lat\", \"lon\"), data_ )\n",
    "#     dict_data['explanation'] = explanation\n",
    "        \n",
    "#     ds = xr.Dataset(\n",
    "#         dict_data,\n",
    "#         coords={\n",
    "#             \"lon\": lons,\n",
    "#             \"lat\": lats,\n",
    "#             \"time\": time,\n",
    "#         },\n",
    "#     )   \n",
    "#     if encode:\n",
    "#         ds.to_netcdf(output_filename,encoding={name_: {'dtype': 'int16', 'scale_factor': 0.1, '_FillValue': -9999}})\n",
    "#     else:\n",
    "#         ds.to_netcdf(output_filename)\n",
    "\n",
    "# to_netcdf('../../data/release/generated_files/input_fisheries.nc',[input_fisheries],['fishing_hours'],lons,lats,date_array[:-1],explanation='Total fishing hours per month, calculated from the Global Fishing Watch v2 dataset')"
   ]
  },
  {
   "cell_type": "code",
   "execution_count": null,
   "metadata": {},
   "outputs": [],
   "source": []
  },
  {
   "cell_type": "code",
   "execution_count": null,
   "metadata": {},
   "outputs": [],
   "source": [
    "plt.pcolormesh(mask_lons,mask_lats,mask_land_nan)\n",
    "plt.show()\n",
    "\n",
    "plt.pcolormesh(fieldMesh_x,fieldMesh_y,np.sum(input_fisheries, axis=0),norm=colors.LogNorm(vmin=1e-3,vmax=1e2))\n",
    "plt.colorbar()\n",
    "plt.show()\n"
   ]
  },
  {
   "cell_type": "code",
   "execution_count": null,
   "metadata": {},
   "outputs": [],
   "source": []
  },
  {
   "cell_type": "code",
   "execution_count": null,
   "metadata": {},
   "outputs": [],
   "source": []
  },
  {
   "cell_type": "code",
   "execution_count": null,
   "metadata": {},
   "outputs": [],
   "source": []
  }
 ],
 "metadata": {
  "kernelspec": {
   "display_name": "Python 3",
   "language": "python",
   "name": "python3"
  },
  "language_info": {
   "codemirror_mode": {
    "name": "ipython",
    "version": 3
   },
   "file_extension": ".py",
   "mimetype": "text/x-python",
   "name": "python",
   "nbconvert_exporter": "python",
   "pygments_lexer": "ipython3",
   "version": "3.11.4"
  },
  "orig_nbformat": 4
 },
 "nbformat": 4,
 "nbformat_minor": 2
}
