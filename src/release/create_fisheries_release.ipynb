{
 "cells": [
  {
   "cell_type": "markdown",
   "metadata": {},
   "source": [
    "## Script to create release locations of plastic from fishing activity\n",
    "We use the Global Fishing Watch v2 Dataset found here: https://globalfishingwatch.org/data-download/datasets/public-fishing-effort\n",
    "\n",
    "We first download the 'fleet-daily-csv-100-v2-YYYY.zip' files, and store them in the folder 'data/release/GlobalFishingWatch/'\n",
    "\n",
    "We then run this script to create a .csv file with location, month, and summed fishing hours data."
   ]
  },
  {
   "cell_type": "code",
   "execution_count": 1,
   "metadata": {},
   "outputs": [],
   "source": [
    "import pandas as pd\n",
    "import glob\n",
    "\n",
    "input_data = '../../data/release/GlobalFishingWatch/'\n",
    "output_data = '../../data/release/generated_files/'"
   ]
  },
  {
   "cell_type": "code",
   "execution_count": 2,
   "metadata": {},
   "outputs": [],
   "source": [
    "files_fisheries = sorted(glob.glob(input_data+'fleet*/*') )"
   ]
  },
  {
   "cell_type": "code",
   "execution_count": 3,
   "metadata": {},
   "outputs": [],
   "source": [
    "# New approach to storing the data - just store as lat/lon/month-year/sum(fishing_hours) - this is model independent!\n",
    "data_fisheries = []\n",
    "for file_ in files_fisheries:\n",
    "    data_fisheries_day = pd.read_csv(file_)\n",
    "    data_fisheries_day = data_fisheries_day[data_fisheries_day['fishing_hours'] > 0]\n",
    "    data_fisheries.append(data_fisheries_day)\n",
    "\n",
    "data_fisheries = pd.concat(data_fisheries, axis=0, ignore_index=True)"
   ]
  },
  {
   "cell_type": "code",
   "execution_count": null,
   "metadata": {},
   "outputs": [],
   "source": [
    "## Aggregate by location and date\n",
    "agg_data_fisheries = data_fisheries.groupby(['cell_ll_lat', 'cell_ll_lon', 'date'])['fishing_hours'].agg('sum').reset_index()"
   ]
  },
  {
   "cell_type": "code",
   "execution_count": null,
   "metadata": {},
   "outputs": [],
   "source": [
    "## Aggregate by location and month\n",
    "agg_data_fisheries['date'] = pd.to_datetime(agg_data_fisheries['date'])\n",
    "agg_data_fisheries['month'] = agg_data_fisheries['date'].values.astype('datetime64[M]')\n",
    "agg_data_fisheries = agg_data_fisheries.groupby(['cell_ll_lat', 'cell_ll_lon', 'month'])['fishing_hours'].agg('sum').reset_index()"
   ]
  },
  {
   "cell_type": "code",
   "execution_count": null,
   "metadata": {},
   "outputs": [],
   "source": [
    "# Store datafile\n",
    "agg_data_fisheries.to_csv('../../data/release/GlobalFishingWatch/fleet_monthly_aggregated.csv')\n",
    "## This chops it down from 70gb for one year to 2gb!"
   ]
  }
 ],
 "metadata": {
  "kernelspec": {
   "display_name": "Python 3",
   "language": "python",
   "name": "python3"
  },
  "language_info": {
   "codemirror_mode": {
    "name": "ipython",
    "version": 3
   },
   "file_extension": ".py",
   "mimetype": "text/x-python",
   "name": "python",
   "nbconvert_exporter": "python",
   "pygments_lexer": "ipython3",
   "version": "3.11.4"
  },
  "orig_nbformat": 4
 },
 "nbformat": 4,
 "nbformat_minor": 2
}
