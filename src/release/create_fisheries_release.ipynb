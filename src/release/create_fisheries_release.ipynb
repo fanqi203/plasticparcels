{
 "cells": [
  {
   "cell_type": "code",
   "execution_count": null,
   "metadata": {},
   "outputs": [],
   "source": []
  },
  {
   "cell_type": "code",
   "execution_count": 3,
   "metadata": {},
   "outputs": [],
   "source": [
    "#https://github.com/OceanParcels/GlobalMassBudget/blob/main/create_river_input.py\n",
    "\n",
    "import xarray as xr\n",
    "import matplotlib.pyplot as plt\n",
    "import numpy as np\n",
    "import cartopy.crs as ccrs\n",
    "import timeit\n",
    "import matplotlib.colors as colors\n",
    "import csv\n",
    "import shapefile\n",
    "import cartopy\n",
    "import glob\n",
    "from datetime import datetime\n",
    "import os"
   ]
  },
  {
   "cell_type": "code",
   "execution_count": 4,
   "metadata": {},
   "outputs": [],
   "source": [
    "import geopandas as gpd\n",
    "import pandas as pd"
   ]
  },
  {
   "cell_type": "code",
   "execution_count": null,
   "metadata": {},
   "outputs": [],
   "source": []
  },
  {
   "cell_type": "code",
   "execution_count": 5,
   "metadata": {},
   "outputs": [],
   "source": [
    "mask_land = xr.open_dataset('../../data/output_data/masks/mask_land_NEMO0083.nc')['mask_land']\n",
    "mask_land_nan = mask_land.copy().values.astype(float)\n",
    "mask_land_nan[~mask_land] = np.nan\n",
    "mask_lons,mask_lats = mask_land['lon'].values, mask_land['lat'].values\n",
    "#fieldMesh_x,fieldMesh_y = np.meshgrid(lons.ravel(),lats.ravel())"
   ]
  },
  {
   "cell_type": "code",
   "execution_count": null,
   "metadata": {},
   "outputs": [],
   "source": []
  },
  {
   "cell_type": "markdown",
   "metadata": {},
   "source": []
  },
  {
   "cell_type": "code",
   "execution_count": null,
   "metadata": {},
   "outputs": [],
   "source": []
  },
  {
   "cell_type": "code",
   "execution_count": 6,
   "metadata": {},
   "outputs": [],
   "source": [
    "files_fisheries = sorted(glob.glob('../../data/release/GlobalFishingWatch/fleet*/*') )"
   ]
  },
  {
   "cell_type": "code",
   "execution_count": 7,
   "metadata": {},
   "outputs": [],
   "source": [
    "date_array = pd.date_range(datetime(2020,1,1),datetime(2021,1,1),freq='MS')    \n",
    "delta_date_array = (( np.array(date_array) - np.datetime64(datetime(1970,1,1)) ) ).astype('timedelta64[s]').astype(int)\n"
   ]
  },
  {
   "cell_type": "code",
   "execution_count": null,
   "metadata": {},
   "outputs": [],
   "source": []
  },
  {
   "cell_type": "code",
   "execution_count": 8,
   "metadata": {},
   "outputs": [
    {
     "name": "stdout",
     "output_type": "stream",
     "text": [
      "2020-01-01 00:00:00\n",
      "2020-02-01 00:00:00\n",
      "2020-03-01 00:00:00\n",
      "2020-04-01 00:00:00\n",
      "2020-05-01 00:00:00\n",
      "2020-06-01 00:00:00\n",
      "2020-07-01 00:00:00\n",
      "2020-08-01 00:00:00\n",
      "2020-09-01 00:00:00\n",
      "2020-10-01 00:00:00\n",
      "2020-11-01 00:00:00\n",
      "2020-12-01 00:00:00\n"
     ]
    }
   ],
   "source": [
    "## Fisheries data is provided on a 0.01x0.01 grid with extent [-180,180]x[-90,90]\n",
    "# e.g. # print(np.unique(sorted(data_fisheries['cell_ll_lat'].values)))\n",
    "# and  # print(np.unique(sorted(data_fisheries['cell_ll_lon'].values)))\n",
    "# We will create a grid to bin these on\n",
    "dlon = 0.01\n",
    "dlat = 0.01\n",
    "lons = np.arange(-180,180,step=dlon)\n",
    "lats = np.arange(-90,90,step=dlat)\n",
    "fieldMesh_x,fieldMesh_y = np.meshgrid(lons,lats)\n",
    "\n",
    "\n",
    "lons_edge = lons - .5*dlon\n",
    "lats_edge = lats - .5*dlat\n",
    "lons_edge = np.append(lons_edge,lons_edge[-1]+dlon)\n",
    "lats_edge = np.append(lats_edge,lats_edge[-1]+dlat)\n",
    "#mesh_plot_x,mesh_plot_y = np.meshgrid(lons_edge,lats_edge)\n",
    "\n",
    "\n",
    "dlon_f,dlat_f = 0.01,0.01\n",
    "\n",
    "\n",
    "\n",
    "\n",
    "input_fisheries = np.zeros([len(date_array)-1,fieldMesh_x.shape[0],fieldMesh_y.shape[1]])\n",
    "for file_ in files_fisheries:\n",
    "    \n",
    "    date = datetime.fromisoformat(os.path.basename(file_).split('.')[0])\n",
    "    if date.day == 1:\n",
    "        print(date)\n",
    "    delta_date = ((np.datetime64(date) - np.datetime64(datetime(1970,1,1))) ).astype('timedelta64[s]').astype(int)\n",
    "    \n",
    "    data_fisheries = pd.read_csv(file_)\n",
    "\n",
    "    data_fishing_hours = data_fisheries[data_fisheries['fishing_hours'] > 0]\n",
    "\n",
    "    i_lat = np.digitize(data_fishing_hours['cell_ll_lat']+.5*dlat_f, lats_edge)-1\n",
    "    i_lon = (np.digitize(data_fishing_hours['cell_ll_lon']+.5*dlon_f, lons_edge)-1) % len(lons)\n",
    "    i_time = (np.digitize(delta_date,delta_date_array)-1) * np.ones(len(i_lat),dtype=int)\n",
    "    \n",
    "    input_fisheries[i_time,i_lat,i_lon] += data_fishing_hours['fishing_hours'].values"
   ]
  },
  {
   "cell_type": "code",
   "execution_count": 9,
   "metadata": {},
   "outputs": [
    {
     "data": {
      "text/plain": [
       "(12, 18000, 36000)"
      ]
     },
     "execution_count": 9,
     "metadata": {},
     "output_type": "execute_result"
    }
   ],
   "source": [
    "input_fisheries.shape"
   ]
  },
  {
   "cell_type": "code",
   "execution_count": 11,
   "metadata": {},
   "outputs": [],
   "source": [
    "def to_netcdf(output_filename,data,data_name,lons,lats,time,explanation='',encode=False):\n",
    "    '''\n",
    "    All data is written to netcdf files to speed up computations\n",
    "    '''\n",
    "    dict_data = {}\n",
    "    for name_, data_ in zip(data_name, data):\n",
    "        dict_data[name_] = (( \"time\",\"lat\", \"lon\"), data_ )\n",
    "    dict_data['explanation'] = explanation\n",
    "        \n",
    "    ds = xr.Dataset(\n",
    "        dict_data,\n",
    "        coords={\n",
    "            \"lon\": lons,\n",
    "            \"lat\": lats,\n",
    "            \"time\": time,\n",
    "        },\n",
    "    )   \n",
    "    if encode:\n",
    "        ds.to_netcdf(output_filename,encoding={name_: {'dtype': 'int16', 'scale_factor': 0.1, '_FillValue': -9999}})\n",
    "    else:\n",
    "        ds.to_netcdf(output_filename)\n",
    "\n",
    "to_netcdf('../../data/release/generated_files/input_fisheries.nc',[input_fisheries],['fishing_hours'],lons,lats,date_array[:-1],explanation='Total fishing hours per month, calculated from the Global Fishing Watch v2 dataset')"
   ]
  },
  {
   "cell_type": "code",
   "execution_count": null,
   "metadata": {},
   "outputs": [],
   "source": []
  },
  {
   "cell_type": "code",
   "execution_count": 12,
   "metadata": {},
   "outputs": [
    {
     "name": "stderr",
     "output_type": "stream",
     "text": [
      "/var/folders/40/_dzhm_n16gn9bfdpc_8tcpf00000gp/T/ipykernel_33425/3223585266.py:1: UserWarning: The input coordinates to pcolormesh are interpreted as cell centers, but are not monotonically increasing or decreasing. This may lead to incorrectly calculated cell edges, in which case, please supply explicit cell edges to pcolormesh.\n",
      "  plt.pcolormesh(mask_lons,mask_lats,mask_land_nan)\n"
     ]
    },
    {
     "data": {
      "image/png": "[encoded data removed]",
      "text/plain": [
       "<Figure size 640x480 with 1 Axes>"
      ]
     },
     "metadata": {},
     "output_type": "display_data"
    }
   ],
   "source": [
    "plt.pcolormesh(mask_lons,mask_lats,mask_land_nan)\n",
    "plt.show()\n"
   ]
  },
  {
   "cell_type": "code",
   "execution_count": 17,
   "metadata": {},
   "outputs": [
    {
     "ename": "",
     "evalue": "",
     "output_type": "error",
     "traceback": [
      "\u001b[1;31mThe Kernel crashed while executing code in the the current cell or a previous cell. Please review the code in the cell(s) to identify a possible cause of the failure. Click <a href='https://aka.ms/vscodeJupyterKernelCrash'>here</a> for more info. View Jupyter <a href='command:jupyter.viewOutput'>log</a> for further details."
     ]
    }
   ],
   "source": [
    "plt.pcolormesh(fieldMesh_x,fieldMesh_y,np.sum(input_fisheries, axis=0),norm=colors.LogNorm(vmin=1e-3,vmax=1e2))\n",
    "plt.colorbar()\n",
    "plt.show()"
   ]
  },
  {
   "cell_type": "code",
   "execution_count": 16,
   "metadata": {},
   "outputs": [
    {
     "data": {
      "text/plain": [
       "(18000, 36000)"
      ]
     },
     "execution_count": 16,
     "metadata": {},
     "output_type": "execute_result"
    }
   ],
   "source": [
    "np.sum(input_fisheries, axis=0).shape"
   ]
  },
  {
   "cell_type": "code",
   "execution_count": null,
   "metadata": {},
   "outputs": [],
   "source": []
  }
 ],
 "metadata": {
  "kernelspec": {
   "display_name": "Python 3",
   "language": "python",
   "name": "python3"
  },
  "language_info": {
   "codemirror_mode": {
    "name": "ipython",
    "version": 3
   },
   "file_extension": ".py",
   "mimetype": "text/x-python",
   "name": "python",
   "nbconvert_exporter": "python",
   "pygments_lexer": "ipython3",
   "version": "3.11.4"
  },
  "orig_nbformat": 4
 },
 "nbformat": 4,
 "nbformat_minor": 2
}
