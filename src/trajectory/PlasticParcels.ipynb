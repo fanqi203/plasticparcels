{
 "cells": [
  {
   "cell_type": "markdown",
   "metadata": {},
   "source": [
    "Created on 2023-08-21\n",
    "This notebook ...\n",
    "\n",
    "TODO: Notebook description"
   ]
  },
  {
   "cell_type": "markdown",
   "metadata": {},
   "source": []
  },
  {
   "cell_type": "code",
   "execution_count": null,
   "metadata": {},
   "outputs": [],
   "source": [
    "## Library imports\n",
    "import os\n",
    "from utils import select_files, create_directory\n",
    "from create_helper import create_fieldset, create_particleset, create_kernel\n",
    "from plotting import plot_release_locations\n",
    "from datetime import datetime, timedelta\n",
    "\n",
    "import numpy as np"
   ]
  },
  {
   "cell_type": "markdown",
   "metadata": {},
   "source": [
    "# User options\n",
    "TODO: Write a description here"
   ]
  },
  {
   "cell_type": "code",
   "execution_count": null,
   "metadata": {},
   "outputs": [],
   "source": [
    "## User options\n",
    "user_settings = {'user': 'denes001',\n",
    "                 'output_directory': '/storage/shared/oceanparcels/output_data/data_Michael/PlasticTransportKernels/data/',\n",
    "                 'fig_directory': '/storage/shared/oceanparcels/output_data/data_Michael/PlasticTransportKernels/fig/',\n",
    "                 }\n",
    "\n",
    "## Create directories if missing\n",
    "create_directory(user_settings['output_directory'])\n",
    "create_directory(user_settings['fig_directory'])"
   ]
  },
  {
   "cell_type": "markdown",
   "metadata": {},
   "source": [
    "# Model settings\n",
    "TODO: Write a description here"
   ]
  },
  {
   "cell_type": "code",
   "execution_count": null,
   "metadata": {},
   "outputs": [],
   "source": [
    "## Model settings\n",
    "model_settings = {'input_data_dir': '/storage/shared/oceanparcels/input_data/',\n",
    "                  'input_data_dir_2': '/storage/shared/oceanparcels/output_data/data_Michael/',\n",
    "                  'input_data_dir_3': '/storage/shared/oceanparcels/output_data/data_Mikael/',\n",
    "\n",
    "                  'mode': '3D',\n",
    "                  \n",
    "                  # Ocean model\n",
    "                  'ocean_dir': 'MOi/psy4v3r1/',                 # Directory of ocean model data\n",
    "                  'ocean_filename': 'psy4v3r1-daily_',          # Filename style of ocean model data\n",
    "                  'ocean_mesh': 'MOi/domain_ORCA0083-N006/coordinates.nc',                               # File location of ocean mesh\n",
    "                  'bathymetry_mesh': 'MOi/domain_ORCA0083-N006/bathymetry_ORCA12_V3.3.nc', # File location of bathymetry mesh\n",
    "                  'mixing_f': True,                             # Turn on/off vertical turbulent mixing\n",
    "                \n",
    "                  # Biogeochemistry model\n",
    "                  'biofouling_f': True,                         # Turn on/off biofouling of particles\n",
    "                  'bgc_dir': 'MOi/biomer4v2r1/',                # Directory of biogeochemistry model\n",
    "                  'bgc_filename': 'biomer4v2r1-weekly_',\n",
    "                  'bgc_mesh': 'MOi/domain_ORCA025-N006/mesh_hgr_PSY4V3_deg.nc', # File location of biogeochemistry model mesh\n",
    "\n",
    "                  'bgc_biofilm_density': 1388.,                 # Biofilm density [g m-3]\n",
    "                  'bgc_algae_cell_volume': 2.0E-16,             # Volume of 1 algal cell [m3]\n",
    "                  'bgc_boltzmann_constant': 1.0306E-13 / (86400. ** 2.),  # Boltzmann constant [m2 kg d-2 K-1] now [s-2] (=1.3804E-23)\n",
    "                  'bgc_respiration_rate': 0.1 / 86400.,         # Respiration rate, now [s-1]\n",
    "                  'bgc_respiration_temperature_coefficient': 2.13,# temperature coefficient respiration [-]\n",
    "                  'bgc_shear_frequency': 1.728E5 / 86400.,      # Shear [d-1], now [s-1]\n",
    "                  'bgc_carbon_atomic_weight': 12.,              # Atomic weight of Carbon\n",
    "                  'bgc_collision_probability': 1.,              # Collision probability [-]\n",
    "                  \n",
    "                  # Waves model\n",
    "                  'stokes_f': True,                             # Turn on/off Stokes Drift\n",
    "                  'stokes_dir': 'ERA5/waves/',                  # Directory of Stokes drift model data\n",
    "                  'stokes_filename': 'ERA5_global_waves_monthly_converted_',\n",
    "\n",
    "                  # Wind model\n",
    "                  'wind_f': True,                               # Turn on/off Windage\n",
    "                  'wind_dir': 'ERA5/wind/',                     # Directory of Wind model data\n",
    "                  'wind_filename': 'ERA5_global_wind_monthly_converted_',\n",
    "\n",
    "                  'allow_time_extrapolation': False,            # Allow extrapolation of time for fieldset\n",
    "                  'verbose_delete': False,                      # Print extra information when executing delete operations\n",
    "                  }\n",
    "\n",
    "particle_settings = {'start_date': datetime.strptime('2019-01-01-00:00:00', '%Y-%m-%d-%H:%M:%S'), # Start date of simulation\n",
    "                     'runtime': timedelta(days=70),             # Runtime of simulation, use negative if releasing particles backwards in time\n",
    "                     'dt_write': timedelta(days=1),             # Timestep of output\n",
    "                     'dt_timestep': timedelta(minutes=5),       # Timestep of advection\n",
    "                     # TODO: Could create own particle class with own sampling kernels to append after helper?\n",
    "                     #'particle_class': PlasticParticle, # Particle class to use, feel free to create your own based on the base PlasticParticle class\n",
    "                    }\n",
    "fieldset = create_fieldset(model_settings, particle_settings)"
   ]
  },
  {
   "cell_type": "markdown",
   "metadata": {},
   "source": [
    "# Particleset settings\n",
    "TODO: Write description here -- user must define particle release locations"
   ]
  },
  {
   "cell_type": "code",
   "execution_count": null,
   "metadata": {},
   "outputs": [],
   "source": [
    "## Set particle release locations\n",
    "n_particles = 20\n",
    "lons = np.linspace(-35,-10,n_particles)\n",
    "lats = np.linspace(30,60,n_particles)\n",
    "depths = np.random.uniform(0,1000, n_particles)\n",
    "times = np.linspace(0,50000,n_particles)\n",
    "\n",
    "release_locations = {'lons': lons,\n",
    "                     'lats': lats,\n",
    "                     'depths': depths,\n",
    "                     'times': times\n",
    "}   \n",
    "\n",
    "\n",
    "## Show particle release locations\n",
    "plot_release_locations(release_locations)"
   ]
  },
  {
   "cell_type": "code",
   "execution_count": null,
   "metadata": {},
   "outputs": [],
   "source": [
    "# Other settings\n",
    "wind_test = np.random.uniform(0,0.05,n_particles)\n",
    "density_test = np.random.uniform(1000,1050,n_particles)\n",
    "diameter_test = np.random.uniform(0.00001, 0.01, n_particles)\n",
    "## Particleset settings\n",
    "particle_settings.update({'release_locations': release_locations, # A dictionary of lons, lats, depths (optional), and times (optional)\n",
    "                          'windage_coefficient': wind_test, # A float or Nx1 array of windage coefficients, values in [0,1] [percent of wind speed]\n",
    "                          'particle_density': density_test, # A float or Nx1 array of particle densities [kg m-3]\n",
    "                          'particle_diameter': diameter_test, # A float or Nx1 array of particle lengths [m]\n",
    "                          'write_output_option': 'all' # Option to write variables. Options: 'none' (default), 'tracer' (saves tracer fields), 'dynamic' (saves all variables that change spatiotemporally), 'all' (saves all variables)\n",
    "                           })\n",
    "\n",
    "\n",
    "pset = create_particleset(fieldset, particle_settings)"
   ]
  },
  {
   "cell_type": "markdown",
   "metadata": {},
   "source": [
    "# Kernel creation\n",
    "This should be pretty simple based on the flags above"
   ]
  },
  {
   "cell_type": "code",
   "execution_count": null,
   "metadata": {},
   "outputs": [],
   "source": [
    "kernels = create_kernel(fieldset, pset)\n",
    "# Advection and execution\n",
    "\n",
    "\n",
    "\n",
    "# Plotting, analysis, animations\n",
    "\n"
   ]
  },
  {
   "cell_type": "code",
   "execution_count": null,
   "metadata": {},
   "outputs": [],
   "source": []
  }
 ],
 "metadata": {
  "language_info": {
   "name": "python"
  }
 },
 "nbformat": 4,
 "nbformat_minor": 2
}
