{
 "cells": [
  {
   "cell_type": "markdown",
   "metadata": {},
   "source": [
    "Created on 2023-08-21\n",
    "This notebook ...\n",
    "\n",
    "TODO: Notebook description"
   ]
  },
  {
   "cell_type": "markdown",
   "metadata": {},
   "source": []
  },
  {
   "cell_type": "code",
   "execution_count": 6,
   "metadata": {},
   "outputs": [],
   "source": [
    "## Library imports\n",
    "import os\n",
    "from utils import select_files, create_directory\n",
    "from helper import create_fieldset, create_particleset, create_kernel, load_default_settings\n",
    "from parcels import ParticleFile\n",
    "#from plotting import plot_release_locations\n",
    "from datetime import datetime, timedelta\n",
    "import matplotlib.pyplot as plt\n",
    "import cartopy.crs as ccrs\n",
    "\n",
    "import numpy as np\n",
    "import json"
   ]
  },
  {
   "cell_type": "markdown",
   "metadata": {},
   "source": [
    "# User options\n",
    "TODO: Write a description here"
   ]
  },
  {
   "cell_type": "code",
   "execution_count": 7,
   "metadata": {},
   "outputs": [],
   "source": [
    "## User options\n",
    "testing_version = 'local'\n",
    "if testing_version == 'local':\n",
    "    user_settings = {'user': 'denes001',\n",
    "                    'output_directory': '../../data/output_data/',\n",
    "                    'fig_directory': '../../fig/',\n",
    "                    }\n",
    "else:\n",
    "    user_settings = {'user': 'denes001',\n",
    "                    'output_directory': '/storage/shared/oceanparcels/output_data/data_Michael/PlasticTransportKernels/data/output_data/',\n",
    "                    'fig_directory': '/storage/shared/oceanparcels/output_data/data_Michael/PlasticTransportKernels/fig/',\n",
    "                    }\n",
    "\n",
    "## Create directories if missing\n",
    "create_directory(user_settings['output_directory'])\n",
    "create_directory(user_settings['fig_directory'])"
   ]
  },
  {
   "cell_type": "markdown",
   "metadata": {},
   "source": [
    "# Model settings\n",
    "TODO: Write a description here"
   ]
  },
  {
   "cell_type": "code",
   "execution_count": 8,
   "metadata": {},
   "outputs": [],
   "source": [
    "## Model settings\n",
    "model_settings, particle_settings = load_default_settings()"
   ]
  },
  {
   "cell_type": "code",
   "execution_count": 16,
   "metadata": {},
   "outputs": [
    {
     "name": "stdout",
     "output_type": "stream",
     "text": [
      "Model Settings\n",
      "{\n",
      "    \"allow_time_extrapolation\": false,\n",
      "    \"bathymetry_mesh\": \"MOi/domain_ORCA0083-N006/bathymetry_ORCA12_V3.3.nc\",\n",
      "    \"bgc_algae_cell_volume\": 2e-16,\n",
      "    \"bgc_algae_mortality_rate\": 1.0,\n",
      "    \"bgc_algae_respiration_f\": 1.0,\n",
      "    \"bgc_biofilm_density\": 1388.0,\n",
      "    \"bgc_boltzmann_constant\": 1.3805834190672156e-23,\n",
      "    \"bgc_carbon_atomic_weight\": 12.0,\n",
      "    \"bgc_collision_probability\": 1.0,\n",
      "    \"bgc_dir\": \"MOi/biomer4v2r1/\",\n",
      "    \"bgc_filename\": \"biomer4v2r1-weekly_\",\n",
      "    \"bgc_mesh\": \"MOi/domain_ORCA025-N006/mesh_hgr_PSY4V3_deg.nc\",\n",
      "    \"bgc_respiration_rate\": 1.1574074074074074e-06,\n",
      "    \"bgc_respiration_temperature_coefficient\": 2.13,\n",
      "    \"bgc_shear_frequency\": 2.0,\n",
      "    \"biofouling_f\": true,\n",
      "    \"input_data_dir\": \"../../data/input_data/\",\n",
      "    \"input_data_dir_2\": \"../../data/input_data/\",\n",
      "    \"input_data_dir_3\": \"../../data/input_data/\",\n",
      "    \"mixing_f\": true,\n",
      "    \"mode\": \"3D\",\n",
      "    \"ocean_dir\": \"MOi/psy4v3r1/\",\n",
      "    \"ocean_filename\": \"psy4v3r1-daily_\",\n",
      "    \"ocean_mesh\": \"MOi/domain_ORCA0083-N006/coordinates.nc\",\n",
      "    \"stokes_dir\": \"ERA5/waves/\",\n",
      "    \"stokes_f\": true,\n",
      "    \"stokes_filename\": \"ERA5_global_waves_monthly_\",\n",
      "    \"verbose_delete\": false,\n",
      "    \"wind_dir\": \"ERA5/wind/\",\n",
      "    \"wind_f\": true,\n",
      "    \"wind_filename\": \"ERA5_global_wind_monthly_\"\n",
      "}\n"
     ]
    }
   ],
   "source": [
    "print(\"Model Settings\")\n",
    "print(json.dumps(model_settings, sort_keys=True, indent=4))"
   ]
  },
  {
   "cell_type": "code",
   "execution_count": null,
   "metadata": {},
   "outputs": [],
   "source": []
  },
  {
   "cell_type": "code",
   "execution_count": 5,
   "metadata": {},
   "outputs": [
    {
     "name": "stderr",
     "output_type": "stream",
     "text": [
      "WARNING: File ../../data/input_data/MOi/domain_ORCA0083-N006/coordinates.nc could not be decoded properly by xarray (version 2023.6.0).\n",
      "         It will be opened with no decoding. Filling values might be wrongly parsed.\n"
     ]
    },
    {
     "name": "stderr",
     "output_type": "stream",
     "text": [
      "WARNING: Flipping lat data from North-South to South-North. Note that this may lead to wrong sign for meridional velocity, so tread very carefully\n"
     ]
    }
   ],
   "source": [
    "fieldset = create_fieldset(model_settings, particle_settings)"
   ]
  },
  {
   "cell_type": "markdown",
   "metadata": {},
   "source": [
    "# Particleset settings\n",
    "TODO: Write description here -- user must define particle release locations"
   ]
  },
  {
   "cell_type": "code",
   "execution_count": 6,
   "metadata": {},
   "outputs": [],
   "source": [
    "## Set particle release locations\n",
    "n_particles = 2\n",
    "lons = np.linspace(-35,-10,n_particles)\n",
    "lats = np.linspace(30,60,n_particles)\n",
    "depths = np.random.uniform(0,1000, n_particles)\n",
    "#times = np.linspace(0,50000,n_particles)\n",
    "\n",
    "release_locations = {'lons': lons,\n",
    "                     'lats': lats,\n",
    "                     'depths': depths,\n",
    "#                     'times': times\n",
    "}   \n",
    "\n",
    "\n",
    "## Show particle release locations\n",
    "#plot_release_locations(release_locations)"
   ]
  },
  {
   "cell_type": "code",
   "execution_count": 7,
   "metadata": {},
   "outputs": [],
   "source": [
    "# Other settings\n",
    "wind_test = np.random.uniform(0,0.05,n_particles)\n",
    "density_test = np.random.uniform(1000,1050,n_particles)\n",
    "diameter_test = np.random.uniform(0.00001, 0.01, n_particles)\n",
    "## Particleset settings\n",
    "particle_settings.update({'release_locations': release_locations, # A dictionary of lons, lats, depths (optional), and times (optional)\n",
    "                          'windage_coefficient': wind_test, # A float or Nx1 array of windage coefficients, values in [0,1] [percent of wind speed]\n",
    "                          'particle_density': density_test, # A float or Nx1 array of particle densities [kg m-3]\n",
    "                          'particle_diameter': diameter_test, # A float or Nx1 array of particle lengths [m]\n",
    "                          'write_output_option': 'all' # Option to write variables. Options: 'none' (default), 'tracer' (saves tracer fields), 'dynamic' (saves all variables that change spatiotemporally), 'all' (saves all variables)\n",
    "                           })\n",
    "\n",
    "\n",
    "pset = create_particleset(fieldset, particle_settings)"
   ]
  },
  {
   "cell_type": "code",
   "execution_count": 15,
   "metadata": {},
   "outputs": [
    {
     "name": "stderr",
     "output_type": "stream",
     "text": [
      "/Users/denes001/anaconda3/envs/py3_parcels/lib/python3.11/site-packages/shapely/predicates.py:798: RuntimeWarning: invalid value encountered in intersects\n",
      "  return lib.intersects(a, b, **kwargs)\n"
     ]
    },
    {
     "data": {
      "image/png": "[encoded data removed]",
      "text/plain": [
       "<Figure size 640x480 with 1 Axes>"
      ]
     },
     "metadata": {},
     "output_type": "display_data"
    }
   ],
   "source": [
    "fig = plt.figure()\n",
    "ax = plt.axes(projection=ccrs.PlateCarree())\n",
    "ax.scatter(pset.lon, pset.lat, transform=ccrs.PlateCarree())\n",
    "ax.coastlines()\n",
    "ax.set_extent([np.min(pset.lon)-5, np.max(pset.lon)+5, np.min(pset.lat)-5, np.max(pset.lat)+5])\n",
    "plt.show()"
   ]
  },
  {
   "cell_type": "markdown",
   "metadata": {},
   "source": [
    "# Kernel creation\n",
    "This should be pretty simple based on the flags above"
   ]
  },
  {
   "cell_type": "code",
   "execution_count": 16,
   "metadata": {},
   "outputs": [],
   "source": [
    "kernels = create_kernel(fieldset, pset)\n",
    "# Advection and execution\n",
    "\n",
    "# Plotting, analysis, animations\n",
    "\n"
   ]
  },
  {
   "cell_type": "code",
   "execution_count": 18,
   "metadata": {},
   "outputs": [
    {
     "data": {
      "text/plain": [
       "[<function kernels.PolyTEOS10_bsq(particle, fieldset, time)>,\n",
       " <function parcels.application_kernels.advection.AdvectionRK4_3D(particle, fieldset, time)>,\n",
       " <function kernels.biofouling(particle, fieldset, time)>,\n",
       " <function kernels.Stokes_drift(particle, fieldset, time)>,\n",
       " <function kernels.windage_drift(particle, fieldset, time)>,\n",
       " <function kernels.vertical_mixing(particle, fieldset, time)>]"
      ]
     },
     "execution_count": 18,
     "metadata": {},
     "output_type": "execute_result"
    }
   ],
   "source": [
    "kernels"
   ]
  },
  {
   "cell_type": "code",
   "execution_count": 30,
   "metadata": {},
   "outputs": [
    {
     "name": "stderr",
     "output_type": "stream",
     "text": [
      "INFO: Compiled ArrayJITParticlePolyTEOS10_bsq ==> /var/folders/40/_dzhm_n16gn9bfdpc_8tcpf00000gp/T/parcels-502/libc8fe1d64c7c9d92e20a136ac9eed7e34_0.so\n"
     ]
    }
   ],
   "source": [
    "\n",
    "for test_kernel in kernels:\n",
    "    pfile = ParticleFile(user_settings['output_directory']+test_kernel.__name__+'.zarr', pset, outputdt=particle_settings['dt_write'])\n",
    "    pset.execute(test_kernel, runtime=particle_settings['runtime'], dt=particle_settings['dt_timestep'], output_file=pfile)\n"
   ]
  },
  {
   "cell_type": "code",
   "execution_count": 17,
   "metadata": {},
   "outputs": [
    {
     "name": "stderr",
     "output_type": "stream",
     "text": [
      "INFO: Compiled ArrayJITParticlePolyTEOS10_bsqAdvectionRK4_3D ==> /var/folders/40/_dzhm_n16gn9bfdpc_8tcpf00000gp/T/parcels-502/lib1a4eb1269568cd383110e37fe5c72fda_0.so\n",
      "INFO: Output files are stored in ../../data/output_data/test.zarr.\n",
      " 19%|█▉        | 64800.0/345600.0 [04:00<17:26, 268.37it/s]"
     ]
    },
    {
     "ename": "",
     "evalue": "",
     "output_type": "error",
     "traceback": [
      "\u001b[1;31mThe Kernel crashed while executing code in the the current cell or a previous cell. Please review the code in the cell(s) to identify a possible cause of the failure. Click <a href='https://aka.ms/vscodeJupyterKernelCrash'>here</a> for more info. View Jupyter <a href='command:jupyter.viewOutput'>log</a> for further details."
     ]
    }
   ],
   "source": []
  },
  {
   "cell_type": "code",
   "execution_count": null,
   "metadata": {},
   "outputs": [
    {
     "data": {
      "text/plain": [
       "array(['../../data/input_data/MOi/psy4v3r1/psy4v3r1-daily_U_2019-01-09.nc',\n",
       "       '../../data/input_data/MOi/psy4v3r1/psy4v3r1-daily_U_2019-01-10.nc',\n",
       "       '../../data/input_data/MOi/psy4v3r1/psy4v3r1-daily_U_2019-01-11.nc',\n",
       "       '../../data/input_data/MOi/psy4v3r1/psy4v3r1-daily_U_2019-01-12.nc',\n",
       "       '../../data/input_data/MOi/psy4v3r1/psy4v3r1-daily_U_2019-01-13.nc'],\n",
       "      dtype='<U65')"
      ]
     },
     "execution_count": 29,
     "metadata": {},
     "output_type": "execute_result"
    }
   ],
   "source": [
    "fieldset.U.dataFiles"
   ]
  },
  {
   "cell_type": "code",
   "execution_count": null,
   "metadata": {},
   "outputs": [],
   "source": []
  }
 ],
 "metadata": {
  "kernelspec": {
   "display_name": "py3_parcels",
   "language": "python",
   "name": "python3"
  },
  "language_info": {
   "codemirror_mode": {
    "name": "ipython",
    "version": 3
   },
   "file_extension": ".py",
   "mimetype": "text/x-python",
   "name": "python",
   "nbconvert_exporter": "python",
   "pygments_lexer": "ipython3",
   "version": "3.11.4"
  }
 },
 "nbformat": 4,
 "nbformat_minor": 2
}
