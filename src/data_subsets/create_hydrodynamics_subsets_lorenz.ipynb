{
 "cells": [
  {
   "cell_type": "code",
   "execution_count": null,
   "metadata": {},
   "outputs": [],
   "source": [
    "import numpy as np\n",
    "import xarray as xr\n",
    "# x=slice(3350, 3950), y=slice(1850, 2200), deptht=slice(0,2)\n",
    "indices_x = [3350, 3950]\n",
    "indices_y = [1850, 2200]\n",
    "indices_depth = [0,2]\n",
    "\n",
    "input_data = '/storage/shared/oceanparcels/input_data/MOi/'\n",
    "output_data = '/storage/shared/oceanparcels/output_data/data_Michael/'\n"
   ]
  }
 ],
 "metadata": {
  "language_info": {
   "name": "python"
  }
 },
 "nbformat": 4,
 "nbformat_minor": 2
}
