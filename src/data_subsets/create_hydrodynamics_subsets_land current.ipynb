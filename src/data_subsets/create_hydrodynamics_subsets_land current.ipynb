{
 "cells": [
  {
   "cell_type": "code",
   "execution_count": 12,
   "metadata": {},
   "outputs": [],
   "source": [
    "import numpy as np\n",
    "import xarray as xr\n",
    "\n",
    "def getclosest_ij(lats, lons, latpt, lonpt):\n",
    "    \"\"\"Function to find the index of the closest point to a certain lon/lat value.\"\"\"\n",
    "    dist_sq = (lats - latpt) ** 2 + (lons - lonpt) ** 2  # find squared distance of every point on grid\n",
    "    minindex_flattened = np.nanargmin(dist_sq)  # 1D index of minimum dist_sq element\n",
    "    return np.unravel_index(minindex_flattened,\n",
    "                            lats.shape)  # Get 2D index for latvals and lonvals arrays from 1D index"
   ]
  },
  {
   "cell_type": "code",
   "execution_count": 6,
   "metadata": {},
   "outputs": [],
   "source": [
    "file = '../../data/input_data/MOi/psy4v3r1/psy4v3r1-daily_U_2019-01-09.nc'"
   ]
  },
  {
   "cell_type": "code",
   "execution_count": null,
   "metadata": {},
   "outputs": [],
   "source": [
    "file = '../../data/output_data/masks/land_current_NEMO0083.nc'\n",
    "df = xr.open_dataset(file, decode_cf=False)\n",
    "subset = df.isel(x=slice(3350, 3950), y=slice(1850, 2200))\n",
    "subset.to_netcdf('../../data/output_data/masks/land_current_NEMO0083_med_subset.nc')"
   ]
  }
 ],
 "metadata": {
  "kernelspec": {
   "display_name": "py3_parcels",
   "language": "python",
   "name": "python3"
  },
  "language_info": {
   "codemirror_mode": {
    "name": "ipython",
    "version": 3
   },
   "file_extension": ".py",
   "mimetype": "text/x-python",
   "name": "python",
   "nbconvert_exporter": "python",
   "pygments_lexer": "ipython3",
   "version": "3.11.4"
  }
 },
 "nbformat": 4,
 "nbformat_minor": 2
}
