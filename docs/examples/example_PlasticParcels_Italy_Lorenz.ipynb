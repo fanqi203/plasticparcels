{
 "cells": [
  {
   "cell_type": "markdown",
   "metadata": {},
   "source": [
    "# PlasticParcels Example\n",
    "## The pathways and fate of Italian coastal plastic pollution\n",
    "In this example, we will use `PlasticParcels` to run a basic simulation of microplastic pollution along the Italian coastline."
   ]
  },
  {
   "cell_type": "code",
   "execution_count": null,
   "metadata": {},
   "outputs": [],
   "source": [
    "# Library imports\n",
    "from datetime import datetime, timedelta\n",
    "\n",
    "# Parcels and PlasticParcels imports\n",
    "import plasticparcels as pp\n",
    "\n",
    "# Plotting imports\n",
    "import matplotlib.pyplot as plt\n",
    "import cartopy.crs as ccrs"
   ]
  },
  {
   "cell_type": "code",
   "execution_count": null,
   "metadata": {},
   "outputs": [],
   "source": [
    "# Load the model settings\n",
    "settings_file = 'docs/examples/lorenz_settings.json'\n",
    "settings = pp.utils.load_settings(settings_file)"
   ]
  },
  {
   "cell_type": "code",
   "execution_count": null,
   "metadata": {},
   "outputs": [],
   "source": [
    "# Create the simulation settings\n",
    "settings['simulation'] = {\n",
    "    'start_date': datetime.strptime('2019-01-10-00:00:00', '%Y-%m-%d-%H:%M:%S'), # Start date of simulation\n",
    "    'runtime': timedelta(days=90),             # Runtime of simulation, use negative if releasing particles backwards in time\n",
    "    'dt_write': timedelta(hours=12),             # Timestep of output\n",
    "    'dt_timestep': timedelta(minutes=20),       # Timestep of advection\n",
    "    }\n",
    "\n",
    "# Overwrite some settings\n",
    "settings['mode'] = '2D'\n",
    "settings['use_biofouling'] = False\n",
    "settings['use_stokes'] = True\n",
    "settings['use_wind'] = True\n"
   ]
  },
  {
   "cell_type": "code",
   "execution_count": null,
   "metadata": {},
   "outputs": [],
   "source": [
    "# Create the particle release settings\n",
    "settings['release'] = {\n",
    "    'initialisation_type': 'coastal',\n",
    "    'country': 'Italy',\n",
    "}"
   ]
  },
  {
   "cell_type": "code",
   "execution_count": null,
   "metadata": {},
   "outputs": [],
   "source": [
    "# Create the plastic type settings\n",
    "settings['plastictype'] = {\n",
    "    'wind_coefficient' : 0.01, # Percentage of wind to apply to particles\n",
    "    'plastic_diameter' : 0.001, # Plastic particle diameter (m)\n",
    "    'plastic_density' : 1030., # Plastic particle density (kg/m^3)\n",
    "}"
   ]
  },
  {
   "cell_type": "code",
   "execution_count": null,
   "metadata": {},
   "outputs": [],
   "source": [
    "settings['ocean']['indices'] = {'lon':range(3300, 4000), 'lat':range(1850, 2400)}#, 'depth':range(0,2)}"
   ]
  },
  {
   "cell_type": "code",
   "execution_count": null,
   "metadata": {},
   "outputs": [],
   "source": [
    "# Download the mask and release data\n",
    "settings = pp.download_data.download_plasticparcels_dataset('NEMO0083', settings, 'input_data')"
   ]
  },
  {
   "cell_type": "code",
   "execution_count": null,
   "metadata": {},
   "outputs": [],
   "source": [
    "# Create the fieldset\n",
    "fieldset = pp.constructors.create_fieldset(settings)"
   ]
  },
  {
   "cell_type": "code",
   "execution_count": null,
   "metadata": {},
   "outputs": [],
   "source": [
    "fieldset.computeTimeChunk()\n",
    "\n",
    "ax=plt.subplot(111, projection=ccrs.PlateCarree())\n",
    "ax.pcolormesh(fieldset.U.grid.lon, fieldset.U.grid.lat, fieldset.U.data[0,0,:,:], transform=ccrs.PlateCarree())\n",
    "ax.coastlines()\n",
    "plt.show()"
   ]
  },
  {
   "cell_type": "code",
   "execution_count": null,
   "metadata": {},
   "outputs": [],
   "source": [
    "# Create the particleset\n",
    "pset = pp.constructors.create_particleset_from_map(fieldset, settings)"
   ]
  },
  {
   "cell_type": "code",
   "execution_count": null,
   "metadata": {},
   "outputs": [],
   "source": [
    "# Create the applicable kernels to the plastic particles\n",
    "kernels = pp.constructors.create_kernel(fieldset)"
   ]
  },
  {
   "cell_type": "code",
   "execution_count": null,
   "metadata": {},
   "outputs": [],
   "source": [
    "# Define the runtime, the timestepping, and the output frequency of the simulation from the settings\n",
    "runtime = settings['simulation']['runtime']\n",
    "dt_timestep = settings['simulation']['dt_timestep']\n",
    "dt_write = settings['simulation']['dt_write']"
   ]
  },
  {
   "cell_type": "code",
   "execution_count": null,
   "metadata": {},
   "outputs": [],
   "source": [
    "# Create the particle file where output will be stored\n",
    "pfile = pp.ParticleFile('example_Italy_coast.zarr', pset, settings=settings, outputdt=dt_write)"
   ]
  },
  {
   "cell_type": "code",
   "execution_count": null,
   "metadata": {},
   "outputs": [],
   "source": [
    "# Execute the simulation\n",
    "pset.execute(kernels, runtime=runtime, dt=dt_timestep, output_file=pfile)"
   ]
  },
  {
   "cell_type": "code",
   "execution_count": null,
   "metadata": {},
   "outputs": [],
   "source": [
    "import xarray as xr\n",
    "ds = xr.open_zarr('example_Italy_coast.zarr')"
   ]
  },
  {
   "cell_type": "code",
   "execution_count": null,
   "metadata": {},
   "outputs": [],
   "source": [
    "ds.plastic_amount"
   ]
  },
  {
   "cell_type": "code",
   "execution_count": null,
   "metadata": {},
   "outputs": [],
   "source": [
    "ax = plt.subplot(111, projection=ccrs.PlateCarree())\n",
    "ax.coastlines(zorder=20)\n",
    "ax.plot(ds['lon'].T, ds['lat'].T, transform=ccrs.PlateCarree())\n",
    "\n",
    "plt.show()"
   ]
  },
  {
   "cell_type": "code",
   "execution_count": null,
   "metadata": {},
   "outputs": [],
   "source": [
    "import numpy as np\n",
    "ax = plt.subplot(111, projection=ccrs.PlateCarree())\n",
    "ax.coastlines(zorder=20)\n",
    "minval = np.min(ds['plastic_amount'].T[0,:])\n",
    "maxval = np.max(ds['plastic_amount'].T[0,:])\n",
    "for i in range(len(ds['plastic_amount'].T[0,:])):\n",
    "    ax.plot(ds['lon'].T[:,i], ds['lat'].T[:,i], c=plt.cm.jet(ds['plastic_amount'].T[0,i]), transform=ccrs.PlateCarree())\n",
    "plt.show()"
   ]
  },
  {
   "cell_type": "code",
   "execution_count": null,
   "metadata": {},
   "outputs": [],
   "source": [
    "ds['plastic_amount'].T[0,:].values"
   ]
  },
  {
   "cell_type": "code",
   "execution_count": null,
   "metadata": {},
   "outputs": [],
   "source": [
    "ds['plastic_amount'].T[0].values.shape"
   ]
  },
  {
   "cell_type": "code",
   "execution_count": null,
   "metadata": {},
   "outputs": [],
   "source": [
    "kernels"
   ]
  },
  {
   "cell_type": "code",
   "execution_count": null,
   "metadata": {},
   "outputs": [],
   "source": []
  }
 ],
 "metadata": {
  "kernelspec": {
   "display_name": "py3_parcels",
   "language": "python",
   "name": "python3"
  },
  "language_info": {
   "codemirror_mode": {
    "name": "ipython",
    "version": 3
   },
   "file_extension": ".py",
   "mimetype": "text/x-python",
   "name": "python",
   "nbconvert_exporter": "python",
   "pygments_lexer": "ipython3",
   "version": "3.11.6"
  }
 },
 "nbformat": 4,
 "nbformat_minor": 2
}
