{
 "cells": [
  {
   "cell_type": "markdown",
   "metadata": {},
   "source": [
    "# Explore the initialisation maps\n",
    "In this tutorial we will explore the initialisation maps offered by `plasticparcels`. Descriptions of these initialisation maps can be found [here](https://plastic.oceanparcels.org/en/latest/initialisationmaps.html)"
   ]
  },
  {
   "cell_type": "code",
   "execution_count": 1,
   "metadata": {},
   "outputs": [],
   "source": [
    "# Library imports\n",
    "from datetime import datetime, timedelta\n",
    "import os\n",
    "os.chdir('../../')\n",
    "# Parcels and PlasticParcels imports\n",
    "import plasticparcels as pp\n",
    "\n",
    "# Plotting imports\n",
    "import matplotlib.pyplot as plt\n",
    "import cartopy.crs as ccrs\n",
    "import cartopy.feature as cfeature\n",
    "import xarray as xr\n",
    "import pandas as pd"
   ]
  },
  {
   "cell_type": "code",
   "execution_count": 2,
   "metadata": {},
   "outputs": [],
   "source": [
    "# Load the model settings\n",
    "settings = {\"release_maps\": {\n",
    "                \"coastal\": None,\n",
    "                \"rivers\": None,\n",
    "                \"fisheries\": None,\n",
    "                \"global_concentrations\": None,},\n",
    "            \"unbeaching\": {\n",
    "                \"filename\": None,\n",
    "            }\n",
    "}"
   ]
  },
  {
   "cell_type": "code",
   "execution_count": 3,
   "metadata": {},
   "outputs": [],
   "source": [
    "# Download the mask and release data\n",
    "settings = pp.utils.download_plasticparcels_dataset('NEMO0083', settings, 'input_data')"
   ]
  },
  {
   "cell_type": "markdown",
   "metadata": {},
   "source": [
    "## Explore the `coastal` initialisation map\n",
    "We will first load in the data using `pandas`"
   ]
  },
  {
   "cell_type": "code",
   "execution_count": 4,
   "metadata": {},
   "outputs": [],
   "source": [
    "coastal_ds = pd.read_csv(settings['release_maps']['coastal'])"
   ]
  },
  {
   "cell_type": "code",
   "execution_count": null,
   "metadata": {},
   "outputs": [],
   "source": []
  }
 ],
 "metadata": {
  "kernelspec": {
   "display_name": "py3_parcels",
   "language": "python",
   "name": "python3"
  },
  "language_info": {
   "codemirror_mode": {
    "name": "ipython",
    "version": 3
   },
   "file_extension": ".py",
   "mimetype": "text/x-python",
   "name": "python",
   "nbconvert_exporter": "python",
   "pygments_lexer": "ipython3",
   "version": "3.10.12"
  }
 },
 "nbformat": 4,
 "nbformat_minor": 2
}
