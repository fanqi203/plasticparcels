{
 "cells": [
  {
   "cell_type": "markdown",
   "metadata": {},
   "source": [
    "# PlasticParcels Example\n",
    "## The pathways and fate of Italian coastal plastic pollution\n",
    "In this example, we will use `PlasticParcels` to run a basic simulation of microplastic pollution along the Italian coastline."
   ]
  },
  {
   "cell_type": "code",
   "execution_count": 4,
   "metadata": {},
   "outputs": [],
   "source": [
    "# Library imports\n",
    "from datetime import datetime, timedelta\n",
    "import xarray as xr\n",
    "\n",
    "# Parcels and PlasticParcels imports\n",
    "from parcels import ParticleFile, JITParticle, Variable\n",
    "from PlasticParcels import constructors, utils\n",
    "import PlasticParcels as PP\n",
    "\n",
    "# Plotting imports\n",
    "import matplotlib.pyplot as plt\n",
    "import cartopy.crs as ccrs"
   ]
  },
  {
   "cell_type": "code",
   "execution_count": 10,
   "metadata": {},
   "outputs": [],
   "source": [
    "# Load the model settings\n",
    "settings_file = 'PlasticParcels/local_settings.json'\n",
    "settings = PP.utils.load_settings(settings_file)"
   ]
  },
  {
   "cell_type": "code",
   "execution_count": 11,
   "metadata": {},
   "outputs": [],
   "source": [
    "# Create the simulation settings\n",
    "settings['simulation'] = {\n",
    "    'start_date': datetime.strptime('2019-01-10-00:00:00', '%Y-%m-%d-%H:%M:%S'), # Start date of simulation\n",
    "    'runtime': timedelta(days=3),             # Runtime of simulation, use negative if releasing particles backwards in time\n",
    "    'dt_write': timedelta(days=1),             # Timestep of output\n",
    "    'dt_timestep': timedelta(minutes=20),       # Timestep of advection\n",
    "    }"
   ]
  },
  {
   "cell_type": "code",
   "execution_count": 13,
   "metadata": {},
   "outputs": [],
   "source": [
    "# Create the fieldset\n",
    "fieldset = PP.constructors.create_fieldset(settings)"
   ]
  },
  {
   "cell_type": "code",
   "execution_count": 14,
   "metadata": {},
   "outputs": [],
   "source": [
    "# Create the particle release settings\n",
    "settings['release'] = {\n",
    "    'wind_coefficient' : 0.01, # Percentage of wind to apply to particles\n",
    "    'plastic_diameter' : 0.001, # Plastic particle diameter (m)\n",
    "    'plastic_density' : 1030., # Plastic particle density (kg/m^3)\n",
    "    'initialisation_type': 'coastal',\n",
    "    'country': 'Italy',   \n",
    "}\n",
    "\n",
    "# Create the particleset\n",
    "pset = PP.constructors.create_particleset_from_map(fieldset, settings)"
   ]
  },
  {
   "cell_type": "code",
   "execution_count": 16,
   "metadata": {},
   "outputs": [],
   "source": [
    "# Create the applicable kernels to the plastic particles\n",
    "kernels = PP.constructors.create_kernel(fieldset)"
   ]
  },
  {
   "cell_type": "code",
   "execution_count": 17,
   "metadata": {},
   "outputs": [],
   "source": [
    "# Define the runtime, the timestepping, and the output frequency of the simulation from the settings\n",
    "runtime = settings['simulation']['runtime']\n",
    "dt_timestep = settings['simulation']['dt_timestep']\n",
    "dt_write = settings['simulation']['dt_write']"
   ]
  },
  {
   "cell_type": "code",
   "execution_count": 18,
   "metadata": {},
   "outputs": [],
   "source": [
    "# Create the particle file where output will be stored\n",
    "pfile = ParticleFile('example_Italy_coast.zarr', pset, outputdt=dt_write)\n",
    "pfile.add_metadata('PlasticParcels_settings', str(settings))"
   ]
  },
  {
   "cell_type": "code",
   "execution_count": 19,
   "metadata": {},
   "outputs": [
    {
     "name": "stdout",
     "output_type": "stream",
     "text": [
      "INFO: Output files are stored in example_Italy_coast.zarr.\n",
      "  0%|          | 1200.0/259200.0 [01:50<5:44:38, 12.48it/s]"
     ]
    },
    {
     "ename": "",
     "evalue": "",
     "output_type": "error",
     "traceback": [
      "\u001b[1;31mThe Kernel crashed while executing code in the current cell or a previous cell. \n",
      "\u001b[1;31mPlease review the code in the cell(s) to identify a possible cause of the failure. \n",
      "\u001b[1;31mClick <a href='https://aka.ms/vscodeJupyterKernelCrash'>here</a> for more info. \n",
      "\u001b[1;31mView Jupyter <a href='command:jupyter.viewOutput'>log</a> for further details."
     ]
    }
   ],
   "source": [
    "# Execute the simulation\n",
    "pset.execute(kernels, runtime=runtime, dt=dt_timestep, output_file=pfile)"
   ]
  },
  {
   "cell_type": "code",
   "execution_count": null,
   "metadata": {},
   "outputs": [],
   "source": []
  }
 ],
 "metadata": {
  "kernelspec": {
   "display_name": "py3_parcels",
   "language": "python",
   "name": "python3"
  },
  "language_info": {
   "codemirror_mode": {
    "name": "ipython",
    "version": 3
   },
   "file_extension": ".py",
   "mimetype": "text/x-python",
   "name": "python",
   "nbconvert_exporter": "python",
   "pygments_lexer": "ipython3",
   "version": "3.11.4"
  }
 },
 "nbformat": 4,
 "nbformat_minor": 2
}
